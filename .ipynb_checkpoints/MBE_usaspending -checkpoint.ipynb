{
 "cells": [
  {
   "cell_type": "code",
   "execution_count": 26,
   "metadata": {},
   "outputs": [],
   "source": [
    "import pandas as pd\n",
    "import numpy as np"
   ]
  },
  {
   "cell_type": "code",
   "execution_count": 27,
   "metadata": {},
   "outputs": [],
   "source": [
    "mbe_contract_prime = pd.read_csv(\"mbe_usaspending/all_contracts_prime_awards_1.csv\")\n",
    "mbe_contract_sub = pd.read_csv(\"mbe_usaspending/all_contracts_subawards_1.csv\")\n"
   ]
  },
  {
   "cell_type": "code",
   "execution_count": 28,
   "metadata": {},
   "outputs": [
    {
     "data": {
      "text/plain": [
       "Index(['contract_award_unique_key', 'award_id_piid', 'parent_award_agency_id',\n",
       "       'parent_award_agency_name', 'parent_award_id', 'total_obligated_amount',\n",
       "       'current_total_value_of_award', 'potential_total_value_of_award',\n",
       "       'period_of_performance_start_date',\n",
       "       'period_of_performance_current_end_date',\n",
       "       ...\n",
       "       'highly_compensated_officer_1_amount',\n",
       "       'highly_compensated_officer_2_name',\n",
       "       'highly_compensated_officer_2_amount',\n",
       "       'highly_compensated_officer_3_name',\n",
       "       'highly_compensated_officer_3_amount',\n",
       "       'highly_compensated_officer_4_name',\n",
       "       'highly_compensated_officer_4_amount',\n",
       "       'highly_compensated_officer_5_name',\n",
       "       'highly_compensated_officer_5_amount', 'last_modified_date'],\n",
       "      dtype='object', length=263)"
      ]
     },
     "execution_count": 28,
     "metadata": {},
     "output_type": "execute_result"
    }
   ],
   "source": [
    "mbe_contract_prime.columns"
   ]
  },
  {
   "cell_type": "code",
   "execution_count": 42,
   "metadata": {},
   "outputs": [],
   "source": [
    "mbe_contract_prime_useful = mbe_contract_prime[[\"recipient_duns\"]]"
   ]
  },
  {
   "cell_type": "code",
   "execution_count": 43,
   "metadata": {},
   "outputs": [],
   "source": [
    "mbe_contract_sub_useful = mbe_contract_sub[\"subawardee_duns\"].values"
   ]
  },
  {
   "cell_type": "code",
   "execution_count": 45,
   "metadata": {},
   "outputs": [],
   "source": [
    "mbe_contract_prime_useful .to_csv(\"mbe_duns.csv\", index=False)"
   ]
  },
  {
   "cell_type": "code",
   "execution_count": null,
   "metadata": {},
   "outputs": [],
   "source": []
  }
 ],
 "metadata": {
  "kernelspec": {
   "display_name": "Python 3",
   "language": "python",
   "name": "python3"
  },
  "language_info": {
   "codemirror_mode": {
    "name": "ipython",
    "version": 3
   },
   "file_extension": ".py",
   "mimetype": "text/x-python",
   "name": "python",
   "nbconvert_exporter": "python",
   "pygments_lexer": "ipython3",
   "version": "3.7.3"
  }
 },
 "nbformat": 4,
 "nbformat_minor": 2
}
