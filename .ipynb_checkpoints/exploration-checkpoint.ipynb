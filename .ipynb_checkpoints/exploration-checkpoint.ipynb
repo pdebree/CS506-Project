{
 "cells": [
  {
   "cell_type": "code",
<<<<<<< HEAD
   "execution_count": 123,
=======
   "execution_count": 1,
>>>>>>> f010fb1050090ecf9a829da1b582971c7a299a35
   "metadata": {},
   "outputs": [],
   "source": [
    "import pandas as pd\n",
    "import numpy as np \n",
    "import matplotlib.pyplot as plt\n",
    "plt.style.use('ggplot')"
   ]
  },
  {
   "cell_type": "code",
<<<<<<< HEAD
   "execution_count": 124,
=======
   "execution_count": 2,
>>>>>>> f010fb1050090ecf9a829da1b582971c7a299a35
   "metadata": {},
   "outputs": [],
   "source": [
    "contracts = pd.read_csv(\"data_119/contracts.csv\")"
   ]
  },
  {
   "cell_type": "code",
<<<<<<< HEAD
   "execution_count": 125,
   "metadata": {},
   "outputs": [],
   "source": [
    "contracts['recipient_name'] = contracts['recipient_name'].replace({'BAYASSOCIATES INCORPORATED':'BAYASSOCIATES, INC.', 'BAYASSOCIATES, INC': 'BAYASSOCIATES, INC.'})\n",
    "contracts['recipient_name'] = contracts['recipient_name'].replace({'TERESA TRIANA':'TERESA, TRIANA'})\n",
    "contracts['recipient_name'] =  contracts['recipient_name'].replace({'BEATRICE COCKRELL':'COCKRELL, BEATRICE'})\n",
    "\n"
   ]
  },
  {
   "cell_type": "code",
   "execution_count": 126,
   "metadata": {},
   "outputs": [],
   "source": [
    "contracts['funding_agency_name'] = contracts['funding_agency_name'].replace({'DEPARTMENT OF HOUSING AND URBAN DEVELOPMENT (HUD)': 'HUD',\n",
    "                                                                            'ENVIRONMENTAL PROTECTION AGENCY (EPA)': 'EPA',\n",
    "                                                                            'DEPARTMENT OF HEALTH AND HUMAN SERVICES (HHS)': 'HHS',\n",
    "                                                                            'NATIONAL SCIENCE FOUNDATION (NSF)' : 'NSF',\n",
    "                                                                            'DEPARTMENT OF TRANSPORTATION (DOT)': 'DOT'})"
   ]
  },
  {
   "cell_type": "code",
   "execution_count": 127,
   "metadata": {},
   "outputs": [],
   "source": [
    "bbe = contracts[contracts['black_american_owned_business'] == True]"
   ]
  },
  {
   "cell_type": "code",
   "execution_count": 128,
   "metadata": {},
   "outputs": [],
   "source": [
    "hbe = contracts[contracts['hispanic_american_owned_business'] == True]"
   ]
  },
  {
   "cell_type": "code",
   "execution_count": 129,
   "metadata": {},
   "outputs": [],
   "source": [
    "mbe = contracts[contracts['minority_owned_business'] == True]"
=======
   "execution_count": 3,
   "metadata": {},
   "outputs": [],
   "source": [
    "contracts['recipient_name'] = contracts['recipient_name'].replace({'BAYASSOCIATES INCORPORATED':'BAYASSOCIATES, INC.', 'BAYASSOCIATES, INC': 'BAYASSOCIATES, INC.'})\n",
    "contracts['recipient_name'] = contracts['recipient_name'].replace({'TERESA TRIANA':'TERESA, TRIANA'})\n",
    "contracts['recipient_name'] =  contracts['recipient_name'].replace({'BEATRICE COCKRELL':'COCKRELL, BEATRICE'})\n",
    "\n"
   ]
  },
  {
   "cell_type": "code",
   "execution_count": 4,
   "metadata": {},
   "outputs": [],
   "source": [
    "contracts['funding_agency_name'] = contracts['funding_agency_name'].replace({'DEPARTMENT OF HOUSING AND URBAN DEVELOPMENT (HUD)': 'HUD',\n",
    "                                                                            'ENVIRONMENTAL PROTECTION AGENCY (EPA)': 'EPA',\n",
    "                                                                            'DEPARTMENT OF HEALTH AND HUMAN SERVICES (HHS)': 'HHS',\n",
    "                                                                            'NATIONAL SCIENCE FOUNDATION (NSF)' : 'NSF',\n",
    "                                                                            'DEPARTMENT OF TRANSPORTATION (DOT)': 'DOT'})"
   ]
  },
  {
   "cell_type": "code",
   "execution_count": 5,
   "metadata": {},
   "outputs": [
    {
     "data": {
      "text/plain": [
       "Index(['contract_award_unique_key', 'obligated_amount',\n",
       "       'period_of_performance_start_date',\n",
       "       'period_of_performance_current_end_date', 'funding_agency_name',\n",
       "       'funding_sub_agency_name', 'recipient_duns', 'recipient_name',\n",
       "       'primary_place_of_performance_county_name', 'recipient_city_name',\n",
       "       'award_or_idv_flag', 'award_description',\n",
       "       'product_or_service_code_description', 'naics_code',\n",
       "       'naics_description', 'minority_owned_business',\n",
       "       'black_american_owned_business', 'hispanic_american_owned_business',\n",
       "       'federally_funded_research_and_development_corp', 'us_state_government',\n",
       "       'sole_proprietorship', 'us_government_entity',\n",
       "       'educational_institution', 'hospital_flag', 'manufacturer_of_goods',\n",
       "       'limited_liability_corporation', 'for_profit_organization',\n",
       "       'nonprofit_organization', 'other_not_for_profit_organization',\n",
       "       'number_of_employees', 'annual_revenue'],\n",
       "      dtype='object')"
      ]
     },
     "execution_count": 5,
     "metadata": {},
     "output_type": "execute_result"
    }
   ],
   "source": [
    "contracts.columns"
>>>>>>> f010fb1050090ecf9a829da1b582971c7a299a35
   ]
  },
  {
   "cell_type": "code",
<<<<<<< HEAD
   "execution_count": 130,
=======
   "execution_count": 56,
>>>>>>> f010fb1050090ecf9a829da1b582971c7a299a35
   "metadata": {},
   "outputs": [
    {
     "data": {
      "text/plain": [
       "recipient_name\n",
       "AKRIVIS TECHNOLOGIES, LLC              2\n",
       "APHIOS CORPORATION                     3\n",
       "ATAASK GLOBAL INC.                     2\n",
       "BAYASSOCIATES, INC.                    5\n",
       "BRYANT ASSOCIATES, INC.                2\n",
       "CLARENDON VALUATION ADVISORS, LLC      2\n",
       "COCKRELL, BEATRICE                     9\n",
       "GONA, PHILIMON                         1\n",
       "GORDON, PATRICK                        2\n",
       "HARLOW SCIENTIFIC, LLC                 1\n",
       "INTELIMAP INC                          2\n",
       "JMW SYSTEMS                            1\n",
       "WESTCARB ENTERPRISES, INC.             3\n",
       "WESTNET, INC.                        564\n",
       "WINDWALKER GROUP, LLC                  1\n",
       "Name: contract_award_unique_key, dtype: int64"
      ]
     },
<<<<<<< HEAD
     "execution_count": 130,
=======
     "execution_count": 56,
>>>>>>> f010fb1050090ecf9a829da1b582971c7a299a35
     "metadata": {},
     "output_type": "execute_result"
    }
   ],
   "source": [
    "contracts.loc[contracts['black_american_owned_business'] == True].groupby(['recipient_name'])['contract_award_unique_key'].count()\n",
    "\n"
   ]
  },
  {
   "cell_type": "code",
<<<<<<< HEAD
   "execution_count": 131,
=======
   "execution_count": 57,
>>>>>>> f010fb1050090ecf9a829da1b582971c7a299a35
   "metadata": {},
   "outputs": [
    {
     "data": {
      "text/plain": [
       "recipient_name\n",
       "BIODIRECT INC.                            4\n",
       "BLANCO, EDGAR E                           1\n",
       "BRUNETTE, MARIA                           1\n",
       "CONVERGENCE MEDICAL DEVICES INC.          1\n",
       "CORTES, DHARMA E                          3\n",
       "GVC CONSTRUCTION AND ENGINEERING, INC.    1\n",
       "MEDICAL SPECIALTIES DISTRIBUTORS, LLC     1\n",
       "MIKRON, INC                               5\n",
       "MOURA'S CLEANING SERVICE, INC.            2\n",
       "NEO-ADVENT TECHNOLOGIES LLC               1\n",
       "TERESA, TRIANA                            1\n",
       "UNIC PRO, INC.                            4\n",
       "Name: contract_award_unique_key, dtype: int64"
      ]
     },
<<<<<<< HEAD
     "execution_count": 131,
=======
     "execution_count": 57,
>>>>>>> f010fb1050090ecf9a829da1b582971c7a299a35
     "metadata": {},
     "output_type": "execute_result"
    }
   ],
   "source": [
    "contracts.loc[contracts['hispanic_american_owned_business'] == True].groupby(['recipient_name'])['contract_award_unique_key'].count()\n"
   ]
  },
  {
   "cell_type": "code",
<<<<<<< HEAD
   "execution_count": 132,
=======
   "execution_count": 58,
>>>>>>> f010fb1050090ecf9a829da1b582971c7a299a35
   "metadata": {},
   "outputs": [
    {
     "data": {
      "text/plain": [
       "recipient_name\n",
       "AKRIVIS TECHNOLOGIES, LLC            262186.000000\n",
       "APHIOS CORPORATION                   181159.666667\n",
       "ATAASK GLOBAL INC.                     7262.980000\n",
       "BAYASSOCIATES, INC.                   60697.000000\n",
       "BRYANT ASSOCIATES, INC.              349354.250000\n",
       "CLARENDON VALUATION ADVISORS, LLC     90543.090000\n",
       "COCKRELL, BEATRICE                     2971.666667\n",
       "GONA, PHILIMON                        33000.000000\n",
       "GORDON, PATRICK                        3306.000000\n",
       "HARLOW SCIENTIFIC, LLC                36045.000000\n",
       "INTELIMAP INC                         30325.000000\n",
       "JMW SYSTEMS                            7735.700000\n",
       "WESTCARB ENTERPRISES, INC.              468.320000\n",
       "WESTNET, INC.                         10751.934929\n",
       "WINDWALKER GROUP, LLC                497153.000000\n",
       "Name: obligated_amount, dtype: float64"
      ]
     },
<<<<<<< HEAD
     "execution_count": 132,
=======
     "execution_count": 58,
>>>>>>> f010fb1050090ecf9a829da1b582971c7a299a35
     "metadata": {},
     "output_type": "execute_result"
    }
   ],
   "source": [
    "contracts.loc[contracts['black_american_owned_business'] == True].groupby(['recipient_name'])['obligated_amount'].mean()\n"
   ]
  },
  {
   "cell_type": "code",
<<<<<<< HEAD
   "execution_count": 133,
=======
   "execution_count": 59,
>>>>>>> f010fb1050090ecf9a829da1b582971c7a299a35
   "metadata": {},
   "outputs": [
    {
     "data": {
      "text/plain": [
       "black_american_owned_business\n",
       "False    272608.444521\n",
       "True      14998.489333\n",
       "Name: obligated_amount, dtype: float64"
      ]
     },
<<<<<<< HEAD
     "execution_count": 133,
=======
     "execution_count": 59,
>>>>>>> f010fb1050090ecf9a829da1b582971c7a299a35
     "metadata": {},
     "output_type": "execute_result"
    }
   ],
   "source": [
    "contracts.groupby(['black_american_owned_business'])['obligated_amount'].mean() "
   ]
  },
  {
   "cell_type": "code",
<<<<<<< HEAD
   "execution_count": 134,
=======
   "execution_count": 60,
>>>>>>> f010fb1050090ecf9a829da1b582971c7a299a35
   "metadata": {},
   "outputs": [
    {
     "data": {
      "text/plain": [
       "black_american_owned_business\n",
       "False    6.031883e+09\n",
       "True     4.538118e+05\n",
       "Name: annual_revenue, dtype: float64"
      ]
     },
<<<<<<< HEAD
     "execution_count": 134,
=======
     "execution_count": 60,
>>>>>>> f010fb1050090ecf9a829da1b582971c7a299a35
     "metadata": {},
     "output_type": "execute_result"
    }
   ],
   "source": [
    "contracts.groupby(['black_american_owned_business'])['annual_revenue'].mean() "
   ]
  },
  {
   "cell_type": "code",
<<<<<<< HEAD
   "execution_count": 135,
=======
   "execution_count": 61,
>>>>>>> f010fb1050090ecf9a829da1b582971c7a299a35
   "metadata": {},
   "outputs": [
    {
     "data": {
      "text/plain": [
       "hispanic_american_owned_business\n",
       "False    5.827332e+09\n",
       "True     7.790131e+06\n",
       "Name: annual_revenue, dtype: float64"
      ]
     },
<<<<<<< HEAD
     "execution_count": 135,
=======
     "execution_count": 61,
>>>>>>> f010fb1050090ecf9a829da1b582971c7a299a35
     "metadata": {},
     "output_type": "execute_result"
    }
   ],
   "source": [
    "contracts.groupby(['hispanic_american_owned_business'])['annual_revenue'].mean() "
   ]
  },
  {
   "cell_type": "code",
<<<<<<< HEAD
   "execution_count": 136,
=======
   "execution_count": 62,
>>>>>>> f010fb1050090ecf9a829da1b582971c7a299a35
   "metadata": {},
   "outputs": [
    {
     "data": {
      "text/plain": [
       "hispanic_american_owned_business\n",
       "False    5.827332e+09\n",
       "True     7.790131e+06\n",
       "Name: annual_revenue, dtype: float64"
      ]
     },
<<<<<<< HEAD
     "execution_count": 136,
=======
     "execution_count": 62,
>>>>>>> f010fb1050090ecf9a829da1b582971c7a299a35
     "metadata": {},
     "output_type": "execute_result"
    }
   ],
   "source": [
    "contracts.groupby(['hispanic_american_owned_business'])['annual_revenue'].mean() "
   ]
  },
  {
   "cell_type": "code",
<<<<<<< HEAD
   "execution_count": 137,
=======
   "execution_count": 63,
>>>>>>> f010fb1050090ecf9a829da1b582971c7a299a35
   "metadata": {},
   "outputs": [
    {
     "data": {
      "text/plain": [
       "hispanic_american_owned_business\n",
       "False    264435.160939\n",
       "True     124468.254000\n",
       "Name: obligated_amount, dtype: float64"
      ]
     },
<<<<<<< HEAD
     "execution_count": 137,
=======
     "execution_count": 63,
>>>>>>> f010fb1050090ecf9a829da1b582971c7a299a35
     "metadata": {},
     "output_type": "execute_result"
    }
   ],
   "source": [
    "contracts.groupby(['hispanic_american_owned_business'])['obligated_amount'].mean() "
   ]
  },
  {
   "cell_type": "code",
<<<<<<< HEAD
   "execution_count": 138,
=======
   "execution_count": 64,
>>>>>>> f010fb1050090ecf9a829da1b582971c7a299a35
   "metadata": {},
   "outputs": [
    {
     "data": {
      "text/html": [
       "<div>\n",
       "<style scoped>\n",
       "    .dataframe tbody tr th:only-of-type {\n",
       "        vertical-align: middle;\n",
       "    }\n",
       "\n",
       "    .dataframe tbody tr th {\n",
       "        vertical-align: top;\n",
       "    }\n",
       "\n",
       "    .dataframe thead th {\n",
       "        text-align: right;\n",
       "    }\n",
       "</style>\n",
       "<table border=\"1\" class=\"dataframe\">\n",
       "  <thead>\n",
       "    <tr style=\"text-align: right;\">\n",
       "      <th></th>\n",
       "      <th>contract_award_unique_key</th>\n",
       "    </tr>\n",
       "    <tr>\n",
       "      <th>funding_agency_name</th>\n",
       "      <th></th>\n",
       "    </tr>\n",
       "  </thead>\n",
       "  <tbody>\n",
       "    <tr>\n",
       "      <th>DOT</th>\n",
       "      <td>4</td>\n",
       "    </tr>\n",
       "    <tr>\n",
       "      <th>EPA</th>\n",
       "      <td>2699</td>\n",
       "    </tr>\n",
       "    <tr>\n",
       "      <th>HHS</th>\n",
       "      <td>15487</td>\n",
       "    </tr>\n",
       "    <tr>\n",
       "      <th>HUD</th>\n",
       "      <td>199</td>\n",
       "    </tr>\n",
       "    <tr>\n",
       "      <th>NSF</th>\n",
       "      <td>94</td>\n",
       "    </tr>\n",
       "  </tbody>\n",
       "</table>\n",
       "</div>"
      ],
      "text/plain": [
       "                     contract_award_unique_key\n",
       "funding_agency_name                           \n",
       "DOT                                          4\n",
       "EPA                                       2699\n",
       "HHS                                      15487\n",
       "HUD                                        199\n",
       "NSF                                         94"
      ]
     },
<<<<<<< HEAD
     "execution_count": 138,
=======
     "execution_count": 64,
>>>>>>> f010fb1050090ecf9a829da1b582971c7a299a35
     "metadata": {},
     "output_type": "execute_result"
    }
   ],
   "source": [
    "contracts.groupby(['funding_agency_name'])[['contract_award_unique_key']].count()"
   ]
  },
  {
   "cell_type": "code",
<<<<<<< HEAD
   "execution_count": 139,
=======
   "execution_count": 65,
>>>>>>> f010fb1050090ecf9a829da1b582971c7a299a35
   "metadata": {},
   "outputs": [
    {
     "data": {
      "text/html": [
       "<div>\n",
       "<style scoped>\n",
       "    .dataframe tbody tr th:only-of-type {\n",
       "        vertical-align: middle;\n",
       "    }\n",
       "\n",
       "    .dataframe tbody tr th {\n",
       "        vertical-align: top;\n",
       "    }\n",
       "\n",
       "    .dataframe thead th {\n",
       "        text-align: right;\n",
       "    }\n",
       "</style>\n",
       "<table border=\"1\" class=\"dataframe\">\n",
       "  <thead>\n",
       "    <tr style=\"text-align: right;\">\n",
       "      <th></th>\n",
       "      <th>contract_award_unique_key</th>\n",
       "    </tr>\n",
       "    <tr>\n",
       "      <th>funding_agency_name</th>\n",
       "      <th></th>\n",
       "    </tr>\n",
       "  </thead>\n",
       "  <tbody>\n",
       "    <tr>\n",
       "      <th>EPA</th>\n",
       "      <td>9</td>\n",
       "    </tr>\n",
       "    <tr>\n",
       "      <th>HHS</th>\n",
       "      <td>575</td>\n",
       "    </tr>\n",
       "    <tr>\n",
       "      <th>HUD</th>\n",
       "      <td>16</td>\n",
       "    </tr>\n",
       "  </tbody>\n",
       "</table>\n",
       "</div>"
      ],
      "text/plain": [
       "                     contract_award_unique_key\n",
       "funding_agency_name                           \n",
       "EPA                                          9\n",
       "HHS                                        575\n",
       "HUD                                         16"
      ]
     },
<<<<<<< HEAD
     "execution_count": 139,
=======
     "execution_count": 65,
>>>>>>> f010fb1050090ecf9a829da1b582971c7a299a35
     "metadata": {},
     "output_type": "execute_result"
    }
   ],
   "source": [
    "contracts.loc[contracts['black_american_owned_business'] == True].groupby(['funding_agency_name'])[['contract_award_unique_key']].count()"
   ]
  },
  {
   "cell_type": "code",
<<<<<<< HEAD
   "execution_count": 140,
=======
   "execution_count": 66,
>>>>>>> f010fb1050090ecf9a829da1b582971c7a299a35
   "metadata": {},
   "outputs": [],
   "source": [
    "#contracts[contracts['hispanic_american_owned_business'] == True].groupby('recipient_city_name').count()"
   ]
  },
  {
   "cell_type": "code",
<<<<<<< HEAD
   "execution_count": 141,
=======
   "execution_count": 67,
>>>>>>> f010fb1050090ecf9a829da1b582971c7a299a35
   "metadata": {},
   "outputs": [],
   "source": [
    "#contracts[contracts['minority_owned_business'] == True].groupby('recipient_city_name').count()"
   ]
  },
  {
   "cell_type": "code",
<<<<<<< HEAD
   "execution_count": 142,
=======
   "execution_count": 41,
>>>>>>> f010fb1050090ecf9a829da1b582971c7a299a35
   "metadata": {},
   "outputs": [
    {
     "data": {
<<<<<<< HEAD
      "image/png": "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\n",
=======
      "image/png": "iVBORw0KGgoAAAANSUhEUgAAAYMAAAEUCAYAAADJB1rpAAAABHNCSVQICAgIfAhkiAAAAAlwSFlzAAALEgAACxIB0t1+/AAAADh0RVh0U29mdHdhcmUAbWF0cGxvdGxpYiB2ZXJzaW9uMy4xLjAsIGh0dHA6Ly9tYXRwbG90bGliLm9yZy+17YcXAAAfUElEQVR4nO3de5xVdb3/8debi4FXEAc1Bh006oimhiPi6fLTKMD0J2b6O9g5SYaHND3o8fgzrd8Jsyw9nZ/+8hzSSFG8JJhm8kuLyCyzvA2IFyBlDpJMXkBAshQV+Zw/1ndgM+y57T3sNcx+Px+Peczen/Vdaz5rP2C/97rstRQRmJlZdeuVdwNmZpY/h4GZmTkMzMzMYWBmZjgMzMwMh4GZmQF92hsgaSZwArAqIg4pqP8TcC6wEbg3Ii5K9UuAycC7wNSImJfq44HvAr2B6yPiilQfBswG9gQWAp+LiLfb62uvvfaKurq6jq+pmZmxYMGCVyOipmVd7X3PQNLHgL8ANzeHgaRjga8Cx0fEW5IGR8QqSSOA24FRwHuBXwLvT4t6Dvgk0AQ8DpwWEUsk3QH8OCJmS7oOeDIirm1vherr66OhoaFDK29mZhlJCyKivmW93d1EEfEgsLZF+Wzgioh4K41ZleoTgNkR8VZEPA80kgXDKKAxIpanT/2zgQmSBHwcuDPNPws4qdNrZ2ZmZSn1mMH7gY9KelTSbyQdmepDgJUF45pSrbX6IOC1iNjYom5mZhXU7jGDNuYbCIwGjgTukHQAoCJjg+KhE22ML0rSFGAKwH777dfJls3MrDWlbhk0ke3nj4h4DNgE7JXqQwvG1QIvtlF/FRggqU+LelERMSMi6iOivqZmm+MfZmZWolLD4Cdk+/qR9H5gJ7I39rnAREnvSWcJDQceIztgPFzSMEk7AROBuZEdvX4AOCUtdxJwT6krY2ZmpenIqaW3A8cAe0lqAqYBM4GZkp4B3gYmpTf2xensoCVkp5yeExHvpuWcC8wjO7V0ZkQsTn/iy8BsSd8EngBu6ML1MzOzDmj31NLuyqeWmpl1XsmnlpqZWc9X6tlEZj3TpXvk3UHm0vV5d2BVxlsGZmbmMDAzM4eBmZnhMDAzMxwGZmaGw8DMzHAYmJkZ/p6B2VbqNvww7xYAWJF3A1Z1vGVgZmYOAzMzcxiYmRkOAzMzw2FgZmY4DMzMDIeBmZnhMDAzMzoQBpJmSlqV7nfcctqFkkLSXum5JF0jqVHSU5JGFoydJGlZ+plUUD9C0tNpnmskqatWzszMOqYjWwY3AeNbFiUNBT4JvFBQPg4Ynn6mANemsXsC04CjgFHANEkD0zzXprHN823zt8zMbPtqNwwi4kFgbZFJVwMXAVFQmwDcHJlHgAGS9gXGAfMjYm1ErAPmA+PTtN0j4uGICOBm4KTyVsnMzDqrpGMGkk4E/hQRT7aYNARYWfC8KdXaqjcVqbf2d6dIapDUsHr16lJaNzOzIjodBpJ2Br4KfK3Y5CK1KKFeVETMiIj6iKivqanpSLtmZtYBpWwZHAgMA56UtAKoBRZK2ofsk/3QgrG1wIvt1GuL1M3MrII6HQYR8XREDI6IuoioI3tDHxkRLwNzgdPTWUWjgfUR8RIwDxgraWA6cDwWmJemvS5pdDqL6HTgni5aNzMz66COnFp6O/Aw8AFJTZImtzH8PmA50Aj8APgSQESsBb4BPJ5+Lks1gLOB69M8/wX8rLRVMTOzUrV7c5uIOK2d6XUFjwM4p5VxM4GZReoNwCHt9WFmZtuPv4FsZmYOAzMzcxiYmRkOAzMzw2FgZmY4DMzMDIeBmZnhMDAzMxwGZmaGw8DMzHAYmJkZDgMzM8NhYGZmOAzMzAyHgZmZ4TAwMzMcBmZmhsPAzMzo2D2QZ0paJemZgtp3JP1B0lOS7pY0oGDaJZIaJT0raVxBfXyqNUq6uKA+TNKjkpZJmiNpp65cQTMza19HtgxuAsa3qM0HDomIQ4HngEsAJI0AJgIHp3m+J6m3pN7AdOA4YARwWhoLcCVwdUQMB9YBk8taIzMz67R2wyAiHgTWtqj9IiI2pqePALXp8QRgdkS8FRHPA43AqPTTGBHLI+JtYDYwQZKAjwN3pvlnASeVuU5mZtZJXXHM4AvAz9LjIcDKgmlNqdZafRDwWkGwNNeLkjRFUoOkhtWrV3dB62ZmBmWGgaSvAhuB25pLRYZFCfWiImJGRNRHRH1NTU1n2zUzs1b0KXVGSZOAE4AxEdH8Bt4EDC0YVgu8mB4Xq78KDJDUJ20dFI43M7MKKWnLQNJ44MvAiRHxRsGkucBESe+RNAwYDjwGPA4MT2cO7UR2kHluCpEHgFPS/JOAe0pbFTMzK1VHTi29HXgY+ICkJkmTgf8EdgPmS1ok6TqAiFgM3AEsAX4OnBMR76ZP/ecC84ClwB1pLGShcoGkRrJjCDd06RqamVm72t1NFBGnFSm3+oYdEZcDlxep3wfcV6S+nOxsIzMzy4m/gWxmZg4DMzNzGJiZGQ4DMzPDYWBmZjgMzMwMh4GZmeEwMDMzHAZmZobDwMzMcBiYmRkOAzMzw2FgZmY4DMzMDIeBmZnhMDAzMxwGZmZGx257OVPSKknPFNT2lDRf0rL0e2CqS9I1kholPSVpZME8k9L4ZZImFdSPkPR0mucaSerqlTQzs7Z1ZMvgJmB8i9rFwP0RMRy4Pz0HOA4Ynn6mANdCFh7ANOAosltcTmsOkDRmSsF8Lf+WmZltZ+2GQUQ8CKxtUZ4AzEqPZwEnFdRvjswjwABJ+wLjgPkRsTYi1gHzgfFp2u4R8XBEBHBzwbLMzKxCSj1msHdEvASQfg9O9SHAyoJxTanWVr2pSN3MzCqoqw8gF9vfHyXUiy9cmiKpQVLD6tWrS2zRzMxaKjUMXkm7eEi/V6V6EzC0YFwt8GI79doi9aIiYkZE1EdEfU1NTYmtm5lZS6WGwVyg+YygScA9BfXT01lFo4H1aTfSPGCspIHpwPFYYF6a9rqk0eksotMLlmVmZhXSp70Bkm4HjgH2ktREdlbQFcAdkiYDLwCnpuH3AZ8CGoE3gDMAImKtpG8Aj6dxl0VE80Hps8nOWOoP/Cz9mJlZBbUbBhFxWiuTxhQZG8A5rSxnJjCzSL0BOKS9PszMbPvxN5DNzMxhYGZmDgMzM6MDxwx2JO+88w5NTU1s2LAh71Yqpl+/ftTW1tK3b9+8WzGzHViPCoOmpiZ222036urqqIbr3UUEa9asoampiWHDhuXdjpntwHrUbqINGzYwaNCgqggCAEkMGjSoqraEzGz76FFhAFRNEDSrtvU1s+2jx4WBmZl1Xo86ZtBS3cX3dunyVlxxfLtjevfuzQc/+MHNz3/yk59QV1dXfHkrVnDCCSfwzDPPFJ1uZlYpPToM8tC/f38WLVqUdxtmZp3i3UQVsGLFCj760Y8ycuRIRo4cye9///ttxixevJhRo0Zx+OGHc+ihh7Js2TIAbr311s31L37xi7z77ruVbt/MqoDDoIu9+eabHH744Rx++OF8+tOfBmDw4MHMnz+fhQsXMmfOHKZOnbrNfNdddx3nnXceixYtoqGhgdraWpYuXcqcOXP43e9+x6JFi+jduze33XZbpVfJzKqAdxN1sWK7id555x3OPffczW/ozz333DbzHX300Vx++eU0NTVx8sknM3z4cO6//34WLFjAkUceCWRBM3jw4G3mNTMrl8OgAq6++mr23ntvnnzySTZt2kS/fv22GfPZz36Wo446invvvZdx48Zx/fXXExFMmjSJb3/72zl0bWbVxLuJKmD9+vXsu+++9OrVi1tuuaXofv/ly5dzwAEHMHXqVE488USeeuopxowZw5133smqVdmN5NauXcsf//jHSrdvZlWgR28ZdORU0Er40pe+xGc+8xl+9KMfceyxx7LLLrtsM2bOnDnceuut9O3bl3322Yevfe1r7Lnnnnzzm99k7NixbNq0ib59+zJ9+nT233//HNbCzHoyZfej2fHU19dHQ0PDVrWlS5dy0EEH5dRRfqp1vbeHrv5uSqm6ywcZ63kkLYiI+pZ17yYyM7PywkDSP0taLOkZSbdL6idpmKRHJS2TNEfSTmnse9LzxjS9rmA5l6T6s5LGlbdKZmbWWSWHgaQhwFSgPiIOAXoDE4ErgasjYjiwDpicZpkMrIuI9wFXp3FIGpHmOxgYD3xPUu9S+zIzs84rdzdRH6C/pD7AzsBLwMeBO9P0WcBJ6fGE9Jw0fYyyS25OAGZHxFsR8TzQCIwqsy8zM+uEksMgIv4E/DvwAlkIrAcWAK9FxMY0rAkYkh4PAVameTem8YMK60Xm2YqkKZIaJDWsXr261NbNzKyFcnYTDST7VD8MeC+wC3BckaHNpysVu/B+tFHfthgxIyLqI6K+pqam802bmVlR5XzP4BPA8xGxGkDSj4G/BQZI6pM+/dcCL6bxTcBQoCntVtoDWFtQb1Y4T3ku3aNLFrNleevbnLxmzRrGjBkDwMsvv0zv3r1pDq3HHnuMnXbaqWv7MTPrIuWEwQvAaEk7A28CY4AG4AHgFGA2MAm4J42fm54/nKb/KiJC0lzgh5KuItvCGA48VkZfuRk0aNDm6xJdeuml7Lrrrlx44YVbjYkIIoJevXxWr5l1H+UcM3iU7EDwQuDptKwZwJeBCyQ1kh0TuCHNcgMwKNUvAC5Oy1kM3AEsAX4OnBMRPeo6zY2NjRxyyCGcddZZjBw5kpUrVzJgwIDN02fPns2ZZ54JwCuvvMLJJ59MfX09o0aN4pFHHsmrbTOrImVdjiIipgHTWpSXU+RsoIjYAJzaynIuBy4vp5fubsmSJdx4441cd911bNy4sdVxU6dO5aKLLmL06NG+E5qZVUyPvjZRd3LggQduvhR1W375y1/y7LPPbn6+bt063nzzTfr377892zOzKucwqJDCi9P16tWLwmtCbdiwYfPjiPDBZjOrOB/FzEGvXr0YOHAgy5YtY9OmTdx9992bp33iE59g+vTpm5/7fspmVgk9e8ugnVNB83TllVcyfvx49ttvP0aMGMFbb70FwPTp0zn77LO58cYb2bhxI8cee+xW4WBmtj34EtY9QLWu9/bgS1hbT+dLWJuZWascBmZm1vPCYEfd7VWqaltfM9s+elQY9OvXjzVr1lTNG2REsGbNGvr165d3K2a2g+tRZxPV1tbS1NRENV3eul+/ftTW1ubdhpnt4HpUGPTt25dhw4bl3YaZ2Q6nR+0mMjOz0jgMzMzMYWBmZg4DMzPDYWBmZjgMzMwMh4GZmVFmGEgaIOlOSX+QtFTS0ZL2lDRf0rL0e2AaK0nXSGqU9JSkkQXLmZTGL5M0qdyVMjOzzil3y+C7wM8j4m+Aw4ClZDe6vz8ihgP3p+cAxwHD088U4FoASXuS3Uf5KLJ7J09rDhAzM6uMksNA0u7Ax4AbACLi7Yh4DZgAzErDZgEnpccTgJsj8wgwQNK+wDhgfkSsjYh1wHxgfKl9mZlZ55WzZXAAsBq4UdITkq6XtAuwd0S8BJB+D07jhwArC+ZvSrXW6tuQNEVSg6SGarr+kJnZ9lZOGPQBRgLXRsSHgL+yZZdQMSpSizbq2xYjZkREfUTU19TUdLZfMzNrRTlh0AQ0RcSj6fmdZOHwStr9Q/q9qmD80IL5a4EX26ibmVmFlBwGEfEysFLSB1JpDLAEmAs0nxE0CbgnPZ4LnJ7OKhoNrE+7keYBYyUNTAeOx6aamZlVSLmXsP4n4DZJOwHLgTPIAuYOSZOBF4BT09j7gE8BjcAbaSwRsVbSN4DH07jLImJtmX2ZmVknlBUGEbEIqC8yaUyRsQGc08pyZgIzy+nFzMxK528gm5mZw8DMzBwGZmaGw8DMzHAYmJkZDgMzM8NhYGZmOAzMzAyHgZmZ4TAwMzMcBmZmhsPAzMxwGJiZGQ4DMzPDYWBmZjgMzMwMh4GZmeEwMDMzuiAMJPWW9ISkn6bnwyQ9KmmZpDnp/shIek963pim1xUs45JUf1bSuHJ7MjOzzumKLYPzgKUFz68Ero6I4cA6YHKqTwbWRcT7gKvTOCSNACYCBwPjge9J6t0FfZmZWQeVFQaSaoHjgevTcwEfB+5MQ2YBJ6XHE9Jz0vQxafwEYHZEvBURzwONwKhy+jIzs84pd8vg/wEXAZvS80HAaxGxMT1vAoakx0OAlQBp+vo0fnO9yDxbkTRFUoOkhtWrV5fZupmZNSs5DCSdAKyKiAWF5SJDo51pbc2zdTFiRkTUR0R9TU1Np/o1M7PW9Slj3g8DJ0r6FNAP2J1sS2GApD7p038t8GIa3wQMBZok9QH2ANYW1JsVzmNmZhVQ8pZBRFwSEbURUUd2APhXEfH3wAPAKWnYJOCe9Hhuek6a/quIiFSfmM42GgYMBx4rtS8zM+u8crYMWvNlYLakbwJPADek+g3ALZIaybYIJgJExGJJdwBLgI3AORHx7nboy8zMWtElYRARvwZ+nR4vp8jZQBGxATi1lfkvBy7vil7MzKzz/A1kMzNzGJiZmcPAzMxwGJiZGQ4DMzPDYWBmZjgMzMwMh4GZmeEwMDMzHAZmZobDwMzM2D4XqrMdTN3F9+bdAgArrjg+7xbMqpa3DMzMzGFgZmYOAzMzw2FgZmY4DMzMjDLCQNJQSQ9IWippsaTzUn1PSfMlLUu/B6a6JF0jqVHSU5JGFixrUhq/TNKk1v6mmZltH+VsGWwE/iUiDgJGA+dIGgFcDNwfEcOB+9NzgOPIbnY/HJgCXAtZeADTgKPIbpc5rTlAzMysMkoOg4h4KSIWpsevA0uBIcAEYFYaNgs4KT2eANwcmUeAAZL2BcYB8yNibUSsA+YD40vty8zMOq9LjhlIqgM+BDwK7B0RL0EWGMDgNGwIsLJgtqZUa61uZmYVUnYYSNoVuAs4PyL+3NbQIrVoo17sb02R1CCpYfXq1Z1v1szMiiorDCT1JQuC2yLix6n8Str9Q/q9KtWbgKEFs9cCL7ZR30ZEzIiI+oior6mpKad1MzMrUM7ZRAJuAJZGxFUFk+YCzWcETQLuKaifns4qGg2sT7uR5gFjJQ1MB47HppqZmVVIOReq+zDwOeBpSYtS7SvAFcAdkiYDLwCnpmn3AZ8CGoE3gDMAImKtpG8Aj6dxl0XE2jL6MjOzTio5DCLiIYrv7wcYU2R8AOe0sqyZwMxSezEzs/L4G8hmZuYwMDMzh4GZmeEwMDMzHAZmZobDwMzMcBiYmRkOAzMzw2FgZmY4DMzMDIeBmZnhMDAzMxwGZmaGw8DMzHAYmJkZDgMzM8NhYGZmOAzMzIxuFAaSxkt6VlKjpIvz7sfMrJqUfA/kriSpNzAd+CTQBDwuaW5ELMm3M7PqVXfxvXm3AMCKK47Pu4Wq0C3CABgFNEbEcgBJs4EJgMPAzHJXDcGoiNhuC+9wE9IpwPiIODM9/xxwVESc22LcFGBKevoB4NmKNrqtvYBXc+6hu/BrsYVfiy38WmzRXV6L/SOipmWxu2wZqEhtm5SKiBnAjO3fTsdIaoiI+rz76A78Wmzh12ILvxZbdPfXorscQG4ChhY8rwVezKkXM7Oq013C4HFguKRhknYCJgJzc+7JzKxqdIvdRBGxUdK5wDygNzAzIhbn3FZHdJtdVt2AX4st/Fps4ddii279WnSLA8hmZpav7rKbyMzMcuQwMDMzh4GZmTkMOiwd4DYz65EcBh33hbwb6M4kHSjp/0h6Ju9eKknSkZL2KXh+uqR7JF0jac88e7P8SPpFweNL8uyloxwGVjJJ+0o6X9JjwGKy04JPy7mtSvs+8DaApI8BVwA3A+vp5qcSbg+SJklaKOmv6adB0ul595WDwss9nJpbF53QLb5nsIM4VNKfi9QFRETsXumG8iLpH8ne9GuBO4AzgXsi4uu5NpaP3hGxNj3+O2BGRNwF3CVpUY59VVx60z8fuABYSPZ/YyTwHUlExM159ldhO9w5+w6Djns6Ij6UdxPdxHTgYeCzEdEAIGmH+8ffRXpL6hMRG4ExbLmQIlTf/68vAZ+OiBUFtV9J+gwwm2yLqVocIGkuWSA2P94sIk7Mp63WVds/Vusa7yXb9L1K0t5kWwd9820pN7cDv5H0KvAm8FsASe8j21VUTXZvEQQARMQKSVWz5ZxMKHj877l10Qn+BnIHSfpKRHwr7z66G0lDyXaPnAbsDNwdEV/Jt6vKkjQa2Bf4RUT8NdXeD+waEQtzba6CJC2IiCM6O60aSOoLHAL8KSJW5d1PMQ6DTpB0HHAJMIJsn+AS4MqIuC/XxroJSR8AJlbTsYP2zhgqOJ7Q40l6A2gsNgk4ICJ2qXBLuZF0HfAfEbFY0h5ku1XfBfYELoyI23NtsAiHQQdJOhM4C7gIaEjlerKzR65P91qoCpKGk236Hgg8TfaP+0/5dpUPSc+TfTAQ2dbBi2y5P0dExAF59VZpkvZva3pE/LFSveRN0uKIODg9Ph84JiJOSqch/6w7Hn90GHSQpCXAR1p+0pM0CHgoIg7Kp7PKk/RbsoOBDwInAkdHxMn5dpU/SU90x//kVnmF/xYk3Qv8KCJuajmtO/EB5I5TsU3+iFgjFbtRW4+2W0T8ID3+jqSq2S/ejqr+ZCXpdbZ+DYLsNo8PAF+OiDW5NJaP1ySdAPwJ+DAwGUBSH6B/no21xmHQcX+WdFhEPFlYlHQY8HpOPeWln6QPsWV3SP/C59V00NS2iIjdWtYkDQQ+D1zHDvLlqy7yReAaYB/g/Ih4OdXHAPfm1lUbvJuogyR9BLgNuBFYQPap50hgEvAPEfFQju1VlKRf0/qn4IiIj1ewnVxJuqDg6QXAVYXTI+IqDEkLI2Jk3n1Y67xl0EER8ZCko8i+WPN5sk/Bi4HRBalfFSLimLx76EYKPw3/oMVzY/NplVX1XiPpa21Mjoj4RsWa6SBvGZRAUg1ARKzOu5c8SLooIv4tPT41In5UMO1b1fY9A8tIKnYSwUCy76E8FBGXVbil3Ej6lyLlncku3TIoInatcEvtchh0kLKjxNOAc8gu8Cey84b/o5r+kcPWm/wtN/+rbXeApGvamh4RUyvVS94k3diiFMAa4NcR0S33k1eCpN2A88gOIt8B/N/u+MWzqtp0K9P5ZGcFjIqI5wEkHQBcK+mfI+LqXLurLLXyuNjznm5BweOvk31gqEoRcUbePXQn6QuJFwB/D8wCRkbEuny7ap23DDpI0hPAJyPi1Rb1GrLLEHS784a3F28ZFNddzx+vFG8lbSHpO8DJZJcxnx4Rf8m5pXY5DDpI0jMRcUhnp/VEkt4F/kq2FdAfeKN5EtAvIqryonXVHISQ3cug4Ok2W0kRMauyHeVH0ibgLWAjW595120vee/dRB33donTepyI6J13D9b9FL7ZSzq/mt78W4qIHe7GYQ6DjjusjZvb9Kt0M9Y9tPjW7c4F/0a67SfACvEuhx2Mw6CD/GnYiin2rVuzHZGPGZhZl2i5lcTWx5KqeStph+AwMDMzdriDHGZm1vUcBmZm5jCwfEiaKmmppNvKXE6dpGfS4/r2vvhkZsX5mIHlQtIfgOOaL+1RxnLqgJ9W05f+zLYHbxlYxaWbhR8AzJW0XtKFBdOeSZ/269KWww8kLZb0C0n905gjJD0p6WGyCwc2z3uMpJ+mx5dKminp15KWS5paMO5fJf1B0nxJtxf+/SK9/qOkx9Pfu0vSzql+oKRH0rTLJP2lYJ7/nepPSfp6qrW1Pu+T9Mv0NxamZd8iaULBMm+TdGIrPX5e0o8l/VzSMkn/VjDtWkkN6W9+vaC+QtK3JD2cpo+UNE/Sf0k6q611sZ7JYWAVFxFnkd04/ligrQv8DSe7rsvBwGvAZ1L9RmBqRBzdzp/6G2AcMAqYJqmvpPq0nA+RXTumvp1l/DgijoyIw4ClpNsXAt8FvhsRR6Z1AUDS2NT3KOBw4AhJH2tnfW5L9cOAvwVeAq4HzkjL3CPV72ujz8PJLhX9QeDvJA1N9a9GRD1wKPA/JB1aMM/K9Br+FrgJOAUYDVzWgXWxHsZhYN3Z8xGxKD1eANSlN8YBEfGbVL+ljfnvjYi30sUFVwF7Ax8B7omINyPideD/t9PDIZJ+K+lpsqtPHpzqRwPN93H4YcH4sennCWAhWSANb2N9dgOGRMTdABGxISLeSOv3PkmDgdOAuyJiYxt93h8R6yNiA7AE2D/V/5eye1Q/kXofUTDP3PT7aeDRiHg93aNjg6QB7ayL9TD+BrLlbSNbfygpvLTHWwWP3yW7KJ7o+KUOWs7fh85fYvsm4KSIeFLS54Fj2hkv4NsR8f2titmxjdbWpzW3kAXQROAL7fzdbdZV0jDgQuDIiFgn6SaKv76bWsy/iS2v1TbrYj2TtwwsbyuA5sthjwSGtTU4Il4D1iu7JzVkb5ad8RDwPyX1k7QrcHw743cDXlJ268bCv/UIW3bzTCyozwO+kJaNpCHp031REfFnoEnSSWn8e5qPS5AF0flp3OKOrFwLu5NdXXa9pL2B4zo5f6fWxXZs3jKwvN0FnC5pEfA48FwH5jkDmCnpDbI3rA6LiMclzQWeBP4INADr25jlX4FH09in2XKP4/OBW5Xd3vDe5mVExC8kHQQ8LAngL8A/kH1ab83ngO9Lugx4BzgVWB4Rr0haCvykM+tYsK5PKrsPx2JgOfC7Ts7f2rp0u7t0Wfl8aqlVHUm7RsRf0ifwB4EpEbGwk8vYGXgzIkLSROC0iJjQ3nwl/I2nye6Q1VZgmZXNWwZWjWZIGkG2/3xWZ4MgOQL4T2UfmV+j/X36nSLpE8BM4CoHgVWCtwzMAEnTye5xXei7EdHyJu+5kTQOuLJF+fmI+HQe/VjP4jAwMzOfTWRmZg4DMzPDYWBmZjgMzMwMh4GZmQH/DTbuYEgTne/YAAAAAElFTkSuQmCC\n",
>>>>>>> f010fb1050090ecf9a829da1b582971c7a299a35
      "text/plain": [
       "<Figure size 432x288 with 1 Axes>"
      ]
     },
<<<<<<< HEAD
     "metadata": {},
=======
     "metadata": {
      "needs_background": "light"
     },
>>>>>>> f010fb1050090ecf9a829da1b582971c7a299a35
     "output_type": "display_data"
    }
   ],
   "source": [
<<<<<<< HEAD
    "contracts.groupby(['funding_agency_name', 'black_american_owned_business'])['contract_award_unique_key'].size().unstack().plot.bar()\n",
    "plt.legend(loc='center left')\n",
    "plt.show()\n"
   ]
  },
  {
   "cell_type": "code",
   "execution_count": 143,
   "metadata": {},
   "outputs": [],
   "source": [
    "norm_mbe = contracts.groupby(['funding_agency_name'])['minority_owned_business'].value_counts(normalize=True).unstack()\n",
    "norm_bbe = contracts.groupby(['funding_agency_name'])['black_american_owned_business'].value_counts(normalize=True).unstack()\n",
    "norm_hbe = contracts.groupby(['funding_agency_name'])['hispanic_american_owned_business'].value_counts(normalize=True).unstack()"
   ]
  },
  {
   "cell_type": "code",
   "execution_count": 168,
   "metadata": {},
   "outputs": [],
   "source": [
    "norm_mbe = norm_mbe.rename(columns={True: \"Minority Owned\", False: \"Not Minority Owned\"})\n",
    "\n",
    "norm_bbe = norm_bbe.rename(columns={True: \"Black Owned\", False: \"Not Black Owned\"})\n",
    "\n",
    "norm_hbe = norm_hbe.rename(columns={True: \"Hispanic Owned\", False: \"Not Hispanic Owned\"})"
   ]
  },
  {
   "cell_type": "code",
   "execution_count": null,
   "metadata": {},
   "outputs": [],
   "source": []
  },
  {
   "cell_type": "code",
   "execution_count": 180,
   "metadata": {},
   "outputs": [
    {
     "data": {
      "image/png": "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\n",
      "text/plain": [
       "<Figure size 1332x756 with 1 Axes>"
      ]
     },
     "metadata": {},
     "output_type": "display_data"
    }
   ],
   "source": [
    "\n",
    "fig = plt.figure(figsize = [6.4, 4.8])\n",
    "ax = fig.add_subplot(111)\n",
    "fig.set_size_inches(18.5, 10.5)\n",
    "\n",
    "norm_mbe.plot(kind='bar', stacked=True, width = 0.1, colormap=\"RdGy\", position=-0.5, ax=ax) \n",
    "norm_bbe.plot(kind='bar', stacked=True, width = 0.1, colormap=\"BrBG\", position=0.5, ax=ax)\n",
    "norm_hbe.plot(kind='bar', stacked=True, width = 0.1, position=1.5, ax=ax)\n",
    "\n",
    "\n",
    "plt.legend(loc='lower left', \n",
    "           fontsize = 'xx-large')\n",
    "\n",
    "plt.xlabel('Funding Agency', fontsize=18)\n",
    "plt.ylabel('Proportion', fontsize=18)\n",
    "\n",
    "\n",
    "plt.show()\n"
   ]
  },
  {
   "cell_type": "code",
   "execution_count": null,
   "metadata": {},
   "outputs": [],
   "source": []
  },
  {
   "cell_type": "code",
   "execution_count": 328,
   "metadata": {},
   "outputs": [],
   "source": [
    "rep_count = contracts.groupby('recipient_name')[['contract_award_unique_key']].count()\n",
    "rep_count = rep_count.rename(columns={'contract_award_unique_key': 'number_of_grants'})"
   ]
  },
  {
   "cell_type": "code",
   "execution_count": 329,
   "metadata": {},
   "outputs": [],
   "source": [
    "reps=rep_count.merge(contracts.groupby('recipient_name')[['annual_revenue']].mean(), left_index=True, right_index=True)\n"
   ]
  },
  {
   "cell_type": "code",
   "execution_count": 330,
   "metadata": {},
   "outputs": [],
   "source": [
    "reps = reps.merge(contracts.groupby('recipient_name')[['minority_owned_business']].any(), left_index=True, right_index=True)"
   ]
  },
  {
   "cell_type": "code",
   "execution_count": 331,
   "metadata": {},
   "outputs": [],
   "source": [
    "reps = reps.merge(contracts.groupby('recipient_name')[['black_american_owned_business']].any(), left_index=True, right_index=True)"
   ]
  },
  {
   "cell_type": "code",
   "execution_count": 332,
   "metadata": {},
   "outputs": [],
   "source": [
    "reps = reps.merge(contracts.groupby('recipient_name')[['hispanic_american_owned_business']].any(), left_index=True, right_index=True)"
   ]
  },
  {
   "cell_type": "code",
   "execution_count": null,
   "metadata": {},
   "outputs": [],
   "source": []
  },
  {
   "cell_type": "code",
   "execution_count": null,
   "metadata": {},
   "outputs": [],
   "source": []
  },
  {
   "cell_type": "code",
   "execution_count": 354,
   "metadata": {},
   "outputs": [],
   "source": [
    "reps_no = reps.dropna()\n",
    "\n",
    "reps_no = reps_no[reps_no['annual_revenue'].astype(int) < 50e+9]\n",
    "reps_no = reps_no[reps_no['number_of_grants'] < 20]"
=======
    "contracts.groupby(['funding_agency_name', 'black_american_owned_business'])['contract_award_unique_key']\n",
    "\n",
    "\n",
    "2\n",
    "\n",
    "\n",
    "I want to create a stacked bar plot of the titanic dataset. The plot needs to group by \"Pclass\", \"Sex\" and \"Survived\". I have managed to do this with a lot of tedious numpy manipulation to produce the normalized plot below (where \"M\" is male and \"F\" is female)enter image description here\n",
    "\n",
    "Is there a way to do this using pandas inbuilt plotting functionality?\n",
    "\n",
    "I have tried this:\n",
    "\n",
    "import pandas as pd\n",
    "import matplotlib.pyplot as plt\n",
    "df = pd.read_csv('train.csv')\n",
    "df_grouped = df.groupby(['Survived','Sex','Pclass'])['Survived'].count()\n",
    "df_grouped.unstack().plot(kind='bar',stacked=True,  colormap='Blues', grid=True, figsize=(13,5));\n",
    "enter image description here\n",
    "\n",
    "Which is not what I want. Is there anyway to produce the first plot using pandas plotting? Thanks in advance\n",
    "\n",
    "python pandas matplotlib plot bar-chart\n",
    "shareimprove this question\n",
    "asked Nov 26 '17 at 9:07\n",
    "\n",
    "PyRsquared\n",
    "3,10722 gold badges2323 silver badges4040 bronze badges\n",
    "add a comment\n",
    "1 Answer\n",
    "activeoldestvotes\n",
    "\n",
    "5\n",
    "\n",
    "The resulting bars will not neighbour each other as in your first figure, but outside of that, pandas let's you do what you want as follows:\n",
    "\n",
    "df_g = df.groupby(['Pclass', 'Sex'])['Survived'].agg([np.mean, lambda x: 1-np.mean(x)])\n",
    "df_g.columns = ['Survived', 'Died']\n",
    "df_g.plot.bar(stacked=True)\n",
    "enter image description here\n",
    "\n",
    "Here, the horizontal grouping of patches is complicated by the requirement of stacking. If, for instance, we only cared about the value of \"Survived\", pandas could take care of it out-of-the-box.\n",
    "\n",
    "df.groupby(['Pclass', 'Sex'])['Survived'].mean()\n",
    "\n",
    ".size().unstack().plot(kind='bar',stacked=True)\n",
    "plt.legend(loc='center left')\n",
    "plt.show()\n"
>>>>>>> f010fb1050090ecf9a829da1b582971c7a299a35
   ]
  },
  {
   "cell_type": "code",
<<<<<<< HEAD
   "execution_count": 355,
=======
   "execution_count": 44,
>>>>>>> f010fb1050090ecf9a829da1b582971c7a299a35
   "metadata": {},
   "outputs": [
    {
     "data": {
      "text/plain": [
<<<<<<< HEAD
       "<matplotlib.axes._subplots.AxesSubplot at 0x11f201390>"
      ]
     },
     "execution_count": 355,
=======
       "<matplotlib.axes._subplots.AxesSubplot at 0x1164fdc18>"
      ]
     },
     "execution_count": 44,
>>>>>>> f010fb1050090ecf9a829da1b582971c7a299a35
     "metadata": {},
     "output_type": "execute_result"
    },
    {
     "data": {
<<<<<<< HEAD
      "image/png": "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\n",
      "text/plain": [
       "<Figure size 432x288 with 2 Axes>"
      ]
     },
     "metadata": {},
=======
      "image/png": "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\n",
      "text/plain": [
       "<Figure size 432x288 with 1 Axes>"
      ]
     },
     "metadata": {
      "needs_background": "light"
     },
>>>>>>> f010fb1050090ecf9a829da1b582971c7a299a35
     "output_type": "display_data"
    }
   ],
   "source": [
<<<<<<< HEAD
    "reps_no.plot(kind='scatter', x='number_of_grants', y='annual_revenue', \n",
    "          c=reps_no['minority_owned_business'], cmap='coolwarm')"
=======
    "contracts[['black_american_owned_business', 'hispanic_american_owned_business', 'minority_owned_business']].count().plot(kind='bar')\n",
    "\n"
>>>>>>> f010fb1050090ecf9a829da1b582971c7a299a35
   ]
  },
  {
   "cell_type": "code",
<<<<<<< HEAD
   "execution_count": null,
   "metadata": {},
   "outputs": [],
   "source": []
  },
  {
   "cell_type": "code",
   "execution_count": null,
=======
   "execution_count": 46,
>>>>>>> f010fb1050090ecf9a829da1b582971c7a299a35
   "metadata": {},
   "outputs": [],
   "source": []
  },
  {
   "cell_type": "code",
   "execution_count": 23,
   "metadata": {
    "scrolled": true
   },
   "outputs": [
    {
     "data": {
<<<<<<< HEAD
      "image/png": "iVBORw0KGgoAAAANSUhEUgAAAXcAAAEXCAYAAABWNASkAAAABHNCSVQICAgIfAhkiAAAAAlwSFlzAAALEgAACxIB0t1+/AAAADh0RVh0U29mdHdhcmUAbWF0cGxvdGxpYiB2ZXJzaW9uMy4xLjAsIGh0dHA6Ly9tYXRwbG90bGliLm9yZy+17YcXAAAUeklEQVR4nO3df7DldX3f8eerLIrGH4AslOxCFmSraBp+uNK1ppa41oi2QlNJcGxYCc1OZkiQUWtI2ozB6VjMdCQwdQgo6GqJhqKGrTIqRVHSEcLyG1xSNoCwXcquCiuImKLv/nE+Gw5379577u699+x+7vMxc+d8v5/v5/v9vr97Zl/ncz/3e85JVSFJ6ss/GHcBkqTZZ7hLUocMd0nqkOEuSR0y3CWpQ4a7JHVopHBPsn+Sq5Lcm2RDktclOTDJtUnua48HtL5JclGSjUnuTHL83F6CJGmiUUfuFwJfqapXAscAG4BzgeuqajlwXVsHOAlY3n7WABfPasWSpGllujcxJXkJcAdwZA11TvI3wIlV9UiSQ4Hrq+oVSS5py5+d2G/OrkKS9ByLRuhzJLAV+GSSY4BbgPcAh2wP7BbwB7f+S4CHh/bf1Np2Gu4HHXRQLVu2bObVS9ICdsstt3yvqhZPtm2UcF8EHA/8XlXdlORCnp2CmUwmadvh14MkaxhM23D44Yezfv36EUqRJG2X5Ls72zbKnPsmYFNV3dTWr2IQ9o+26Rja45ah/ocN7b8U2DzxoFV1aVWtqKoVixdP+sIjSdpF04Z7Vf1f4OEkr2hNq4DvAOuA1a1tNXB1W14HnN7umlkJbHO+XZLm1yjTMgC/B1yR5HnA/cAZDF4YrkxyJvAQcGrrew3wVmAj8FTrK0maRyOFe1XdDqyYZNOqSfoWcNZu1iVJ2g2+Q1WSOmS4S1KHDHdJ6pDhLkkdGvVuGWmPseGVR4+7hDlz9L0bxl2COuHIXZI6ZLhLUocMd0nqkOEuSR0y3CWpQ4a7JHXIcJekDhnuktQhw12SOmS4S1KHDHdJ6pDhLkkdMtwlqUOGuyR1yHCXpA4Z7pLUIcNdkjpkuEtShwx3SeqQ4S5JHTLcJalDhrskdWikcE/yYJK7ktyeZH1rOzDJtUnua48HtPYkuSjJxiR3Jjl+Li9AkrSjmYzcf6Wqjq2qFW39XOC6qloOXNfWAU4ClrefNcDFs1WsJGk0uzMtczKwti2vBU4Zav90DdwI7J/k0N04jyRphkYN9wK+luSWJGta2yFV9QhAezy4tS8BHh7ad1NrkyTNk0Uj9nt9VW1OcjBwbZJ7p+ibSdpqh06DF4k1AIcffviIZUiSRjHSyL2qNrfHLcAXgROAR7dPt7THLa37JuCwod2XApsnOealVbWiqlYsXrx4169AkrSDacM9yc8lefH2ZeDNwN3AOmB167YauLotrwNOb3fNrAS2bZ++kSTNj1GmZQ4Bvphke/8/r6qvJLkZuDLJmcBDwKmt/zXAW4GNwFPAGbNetSRpStOGe1XdDxwzSfv3gVWTtBdw1qxUJ0naJb5DVZI6ZLhLUocMd0nqkOEuSR0y3CWpQ4a7JHXIcJekDhnuktQhw12SOmS4S1KHDHdJ6pDhLkkdMtwlqUOGuyR1yHCXpA4Z7pLUIcNdkjpkuEtShwx3SeqQ4S5JHTLcJalDhrskdchwl6QOGe6S1CHDXZI6ZLhLUocMd0nq0MjhnmSfJLcl+VJbPyLJTUnuS/IXSZ7X2p/f1je27cvmpnRJ0s7MZOT+HmDD0PpHgAuqajnwGHBmaz8TeKyqjgIuaP0kSfNopHBPshR4G/CJth7gjcBVrcta4JS2fHJbp21f1fpLkubJqCP3PwU+APysrb8MeLyqnmnrm4AlbXkJ8DBA276t9ZckzZNpwz3JvwS2VNUtw82TdK0Rtg0fd02S9UnWb926daRiJUmjGWXk/nrg7UkeBD7HYDrmT4H9kyxqfZYCm9vyJuAwgLb9pcAPJh60qi6tqhVVtWLx4sW7dRGSpOeaNtyr6g+qamlVLQNOA75eVe8CvgG8o3VbDVzdlte1ddr2r1fVDiN3SdLc2Z373H8feG+SjQzm1C9r7ZcBL2vt7wXO3b0SJUkztWj6Ls+qquuB69vy/cAJk/R5Gjh1FmqTJO0i36EqSR0y3CWpQ4a7JHXIcJekDhnuktQhw12SOmS4S1KHDHdJ6pDhLkkdMtwlqUOGuyR1yHCXpA4Z7pLUIcNdkjpkuEtShwx3SeqQ4S5JHTLcJalDhrskdchwl6QOGe6S1CHDXZI6ZLhLUocMd0nqkOEuSR0y3CWpQ4a7JHVo2nBPsl+Sv05yR5J7kpzX2o9IclOS+5L8RZLntfbnt/WNbfuyub0ESdJEo4zcfwK8saqOAY4F3pJkJfAR4IKqWg48BpzZ+p8JPFZVRwEXtH6SpHk0bbjXwJNtdd/2U8Abgata+1rglLZ8clunbV+VJLNWsSRpWiPNuSfZJ8ntwBbgWuBvgcer6pnWZROwpC0vAR4GaNu3AS+bzaIlSVMbKdyr6qdVdSywFDgBOHqybu1xslF6TWxIsibJ+iTrt27dOmq9kqQRzOhumap6HLgeWAnsn2RR27QU2NyWNwGHAbTtLwV+MMmxLq2qFVW1YvHixbtWvSRpUqPcLbM4yf5t+QXAm4ANwDeAd7Ruq4Gr2/K6tk7b/vWq2mHkLkmaO4um78KhwNok+zB4Mbiyqr6U5DvA55L8J+A24LLW/zLgM0k2MhixnzYHdUuSpjBtuFfVncBxk7Tfz2D+fWL708Cps1KdJGmX+A5VSeqQ4S5JHTLcJalDhrskdchwl6QOGe6S1CHDXZI6ZLhLUocMd0nqkOEuSR0y3CWpQ4a7JHXIcJekDhnuktQhw12SOmS4S1KHDHdJ6pDhLkkdMtwlqUOGuyR1yHCXpA4Z7pLUIcNdkjpkuEtShwx3SeqQ4S5JHTLcJalD04Z7ksOSfCPJhiT3JHlPaz8wybVJ7muPB7T2JLkoycYkdyY5fq4vQpL0XKOM3J8B3ldVRwMrgbOSvAo4F7iuqpYD17V1gJOA5e1nDXDxrFctSZrStOFeVY9U1a1t+QlgA7AEOBlY27qtBU5pyycDn66BG4H9kxw665VLknZqRnPuSZYBxwE3AYdU1SMweAEADm7dlgAPD+22qbVJkubJyOGe5EXA54FzquqHU3WdpK0mOd6aJOuTrN+6deuoZUiSRjBSuCfZl0GwX1FVX2jNj26fbmmPW1r7JuCwod2XApsnHrOqLq2qFVW1YvHixbtavyRpEqPcLRPgMmBDVX10aNM6YHVbXg1cPdR+ertrZiWwbfv0jSRpfiwaoc/rgd8E7kpye2v7Q+B84MokZwIPAae2bdcAbwU2Ak8BZ8xqxZKkaU0b7lX1V0w+jw6wapL+BZy1m3VJknaD71CVpA4Z7pLUIcNdkjpkuEtShwx3SeqQ4S5JHTLcJalDhrskdchwl6QOGe6S1CHDXZI6ZLhLUocMd0nqkOEuSR0y3CWpQ4a7JHXIcJekDhnuktQhw12SOmS4S1KHDHdJ6pDhLkkdMtwlqUOGuyR1yHCXpA4Z7pLUIcNdkjo0bbgnuTzJliR3D7UdmOTaJPe1xwNae5JclGRjkjuTHD+XxUuSJjfKyP1TwFsmtJ0LXFdVy4Hr2jrAScDy9rMGuHh2ypQkzcS04V5V3wJ+MKH5ZGBtW14LnDLU/ukauBHYP8mhs1WsJGk0uzrnfkhVPQLQHg9u7UuAh4f6bWptkqR5NNt/UM0kbTVpx2RNkvVJ1m/dunWWy5CkhW1Xw/3R7dMt7XFLa98EHDbUbymwebIDVNWlVbWiqlYsXrx4F8uQJE1mV8N9HbC6La8Grh5qP73dNbMS2LZ9+kaSNH8WTdchyWeBE4GDkmwCPgicD1yZ5EzgIeDU1v0a4K3ARuAp4Iw5qFmSNI1pw72q3rmTTasm6VvAWbtblCRp9/gOVUnqkOEuSR0y3CWpQ4a7JHXIcJekDhnuktQhw12SOmS4S1KHDHdJ6pDhLkkdMtwlqUOGuyR1yHCXpA4Z7pLUIcNdkjpkuEtShwx3SeqQ4S5JHTLcJalDhrskdchwl6QOGe6S1CHDXZI6ZLhLUocMd0nqkOEuSR1aNO4CJC0cm869YdwlzKml5/+zcZfw9+Yk3JO8BbgQ2Af4RFWdPxfn0cL063/Q75jkrnEXoG7M+v+SJPsAHwP+BbAJuDnJuqr6zmyfa1ctO/fL4y5hTj14/tvGXcKcuuuBh8ZdgrTHm4sh0AnAxqq6HyDJ54CTgT0m3C9789njLmGO9R3u2ns98Zdrxl3C3Dp/w7gr+HtzEe5LgIeH1jcB/2QOzrPL7r3y4+MuYU6teuO4K5A0bnMR7pmkrXbolKwBtr+MP5nkb+aglj3FQcD35utkv3vJfJ1pQZjX547zJvvvo90wv89f5v35+4WdbZiLcN8EHDa0vhTYPLFTVV0KXDoH59/jJFlfVSvGXYdmzudu77aQn7+5uM/9ZmB5kiOSPA84DVg3B+eRJO3ErI/cq+qZJL8LfJXBrZCXV9U9s30eSdLOzckNw1V1DXDNXBx7L7Ugpp865XO3d1uwz1+qdvhbpyRpL+dny0hShwx3SeqQ4S5JHTLc50GSlyf5j0nuHnctkhYGw32OJDk0yTlJ/hq4h8Ftoe8cc1maQpLXJvmHQ+unJ7k6yUVJDhxnbRpNktVJbk3yo/azPsnp465rHAz3WZbkt5N8Hfgmg7c+/zvgkao6r6r8RNc92yXA3wEkeQNwPvBpYBsL+Ja6vUUL8XOA9wE/z+Bzrj4AvGchBry3Qs6yJH8HfBt4X1Wtb233V9WR461M00lyR1Ud05Y/Bmytqj9u67dX1bHjrE9TS3IjcFpVPTihfRnwuapaOYayxqbfbz0Yn58HTgU+muQQ4Epg3/GWpBHtk2RRVT0DrOLZD7YD/6/sDV4yMdgBqurBJC8ZQz1j5bTMLKuq71XVxVX1BuBNDH6l35JkQ5IPj7k8Te2zwDeTXA38GLgBIMlRDJ5H7dl+vIvbuuS0zDxJ8goGvzKeN+5atHNJVgKHAl+rqh+1tn8EvKiqbh1rcZpSkqeAjZNtAo6sqp+b55LGynCfZUmWA/8FeDmDr8R8f1X9n/FWpVFMd0dMVf1gvmrRzCXZ6WebA1TVd+erlj2B4T7LktzA4A6LbwFvB15XVb823qo0iiQPMPhimTAYvW/m2S+fKf8orr2J4T7LJt5VkeTWqjp+nDVp5pLcVlXHjbsOjS7JEzz3W9+KwbcwfQP4/ar6/lgKGxPvAJh9+yU5jmdHfC8YXnfedq/hqGcvU1UvntiW5ADg3cCfMbiLbcFw5D7LklzPzoOhqsqvr94L+BtXXxbi8+nIfZZV1YnjrkG7Jsl7h1YPnrBOVX10nkvSLEiyLwsw6xbcBc+1JB+oqj9py6dW1X8f2vbhqvrD8VWnaQz/Wv/xCevawyWZ7MaFA4DfAK6a53LGzmmZWTb869/EXwUX4q+G0nxJ8skJTQV8H7i+qr48hpLGypH77MtOlidb1x4kyUVTba+qs+erFs1cVZ0x7hr2JIb77Jt4K9bOtmnPc8vQ8nnAB8dViGbOF+fnclpmliX5KfAjBqP0FwBPbd8E7FdVfojYXsD73Pc+SVYPre7w4lxVa+e3ovEy3KVJ+PeRvZsvzn4qpKQ+LfhRq3PuUjPh7esvTPLD7ZsYvAFtwX0muPZeTstI6sLEF2ee+/euBffibLhLUoecc5ekDhnuktQhw12SOmS4a7clObt9AfgVu3mcZUnubssrpnvHoaSd8w+q2m1J7gVOqqoHdvM4y4AvVdUvzkZd0kLmyF27JcmfAUcC65JsS/L+oW13t9H4sjay/3iSe5J8LckLWp/XJLkjybeBs4b2PTHJl9ryHye5PMn1Se5PcvZQvz9Kcm+Sa5N8dvj8k9T620lubuf7fJIXtvaXJ7mxbftQkieH9vn3rf3OJOe1tqmu56gk/7Od49Z27M8kOXnomFckeftOanx3ki8k+UqS+5L8ydC2i5Osb+c8b6j9wSQfTvLttv34JF9N8rdJfmeqa1G/DHftlqr6HQZfJP0rwAVTdF0OfKyqXg08Dvyb1v5J4Oyqet00p3ol8KvACcAHk+ybZEU7znHArwErpjnGF6rqtVV1DLABOLO1XwhcWFWvbdcCQJI3t7pPAI4FXpPkDdNczxWt/RjgnwKPAJ8AzmjHfGlrv2aKOo9l8Bnk/xj4jSSHtfb/UFUrgF8C/nmSXxra5+H2b3gD8CngHcBK4EMjXIs6ZLhrvjxQVbe35VuAZS3o9q+qb7b2z0yx/5er6idV9T1gC3AI8MvA1VX146p6Avgf09Twi0luSHIX8C7g1a39dcD2L1X586H+b24/twG3MniBWT7F9bwYWFJVXwSoqqer6ql2fUclORh4J/D5qnpmijqvq6ptVfU08B3gF1r7rye5tdXzauBVQ/usa493ATdV1RNVtRV4Osn+01yLOuTHD2g2PcNzBwz7DS3/ZGj5pww+MTOM/hkgE/dfxMw/H/9TwClVdUeSdwMnTtM/wH+uqkue0zj428DOrmdnPsPgBeU04LemOe8O15rkCOD9wGur6rEkn2Lyf9+fTdj/Zzz7b7XDtahfjtw1mx4Etn8L1fHAEVN1rqrHgW1Jfrk1vWuG5/sr4F8l2S/Ji4C3TdP/xcAj7Ts1h891I89Oq5w21P5V4LfasUmypI2+J1VVPwQ2JTml9X/+9nl9Bi8s57R+94xycRO8hMFHSW9Lcghw0gz3n9G1aO/nyF2z6fPA6UluB24G/vcI+5wBXJ7kKQYBNLKqujnJOuAO4LvAemDbFLv8EXBT63sXz35H6jnAf0vyPuDL249RVV9LcjTw7SQATwL/lsFoemd+E7gkyYeA/wecCtxfVY8m2QD85Uyuceha70hyG3APcD/wv2a4/86uZcuu1KM9n7dCaq+W5EVV9WQbIX8LWFNVt87wGC8EflxVleQ04J1VdfJ0++3COe4Cjq+qqV6ApFnhyF17u0uTvIrB/PPamQZ78xrgv2YwpH2c6efEZyTJm4DLgY8a7JovjtzVnSQfA14/ofnCqvrkOOqZTJJfBT4yofmBqvrX46hH/THcJalD3i0jSR0y3CWpQ4a7JHXIcJekDhnuktSh/w8a/KnhZFJBYwAAAABJRU5ErkJggg==\n",
      "text/plain": [
=======
      "text/plain": [
       "minority_owned_business  hispanic_american_owned_business\n",
       "False                    False                               17533\n",
       "True                     False                                 941\n",
       "                         True                                   25\n",
       "Name: recipient_name, dtype: int64"
      ]
     },
     "execution_count": 46,
     "metadata": {},
     "output_type": "execute_result"
    }
   ],
   "source": [
    "contracts.groupby(['minority_owned_business', 'hispanic_american_owned_business'])['recipient_name'].count()"
   ]
  },
  {
   "cell_type": "code",
   "execution_count": 19,
   "metadata": {
    "scrolled": true
   },
   "outputs": [
    {
     "data": {
      "image/png": "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\n",
      "text/plain": [
>>>>>>> f010fb1050090ecf9a829da1b582971c7a299a35
       "<Figure size 432x288 with 1 Axes>"
      ]
     },
     "metadata": {
      "needs_background": "light"
     },
     "output_type": "display_data"
    }
   ],
   "source": [
    "contracts[contracts['black_american_owned_business'] == True].groupby(['funding_agency_name', 'recipient_name'])[['contract_award_unique_key']].count().unstack().plot(kind='bar',stacked=True, legend=False)\n",
    "plt.show()"
   ]
  },
  {
   "cell_type": "code",
<<<<<<< HEAD
   "execution_count": 24,
=======
   "execution_count": 20,
>>>>>>> f010fb1050090ecf9a829da1b582971c7a299a35
   "metadata": {},
   "outputs": [
    {
     "data": {
      "text/plain": [
       "15"
      ]
     },
<<<<<<< HEAD
     "execution_count": 24,
=======
     "execution_count": 20,
>>>>>>> f010fb1050090ecf9a829da1b582971c7a299a35
     "metadata": {},
     "output_type": "execute_result"
    }
   ],
   "source": [
    "len(contracts[contracts['black_american_owned_business'] == True]['recipient_name'].unique())"
   ]
  },
  {
   "cell_type": "code",
<<<<<<< HEAD
   "execution_count": 25,
=======
   "execution_count": 21,
>>>>>>> f010fb1050090ecf9a829da1b582971c7a299a35
   "metadata": {},
   "outputs": [
    {
     "data": {
      "text/plain": [
<<<<<<< HEAD
       "1474"
      ]
     },
     "execution_count": 25,
=======
       "1478"
      ]
     },
     "execution_count": 21,
>>>>>>> f010fb1050090ecf9a829da1b582971c7a299a35
     "metadata": {},
     "output_type": "execute_result"
    }
   ],
   "source": [
    "len(contracts['recipient_name'].unique())"
   ]
  },
  {
   "cell_type": "code",
<<<<<<< HEAD
   "execution_count": 26,
=======
   "execution_count": 22,
>>>>>>> f010fb1050090ecf9a829da1b582971c7a299a35
   "metadata": {},
   "outputs": [
    {
     "data": {
      "text/plain": [
       "85"
      ]
     },
<<<<<<< HEAD
     "execution_count": 26,
=======
     "execution_count": 22,
>>>>>>> f010fb1050090ecf9a829da1b582971c7a299a35
     "metadata": {},
     "output_type": "execute_result"
    }
   ],
   "source": [
    "len(contracts[contracts['minority_owned_business'] == True]['recipient_name'].unique())"
   ]
  },
  {
   "cell_type": "code",
<<<<<<< HEAD
   "execution_count": 27,
=======
   "execution_count": 23,
>>>>>>> f010fb1050090ecf9a829da1b582971c7a299a35
   "metadata": {},
   "outputs": [
    {
     "data": {
      "text/plain": [
<<<<<<< HEAD
       "<matplotlib.axes._subplots.AxesSubplot at 0x11b93f5c0>"
      ]
     },
     "execution_count": 27,
=======
       "<matplotlib.axes._subplots.AxesSubplot at 0x115233ac8>"
      ]
     },
     "execution_count": 23,
>>>>>>> f010fb1050090ecf9a829da1b582971c7a299a35
     "metadata": {},
     "output_type": "execute_result"
    },
    {
     "data": {
<<<<<<< HEAD
      "image/png": "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\n",
=======
      "image/png": "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\n",
>>>>>>> f010fb1050090ecf9a829da1b582971c7a299a35
      "text/plain": [
       "<Figure size 432x288 with 1 Axes>"
      ]
     },
     "metadata": {
      "needs_background": "light"
     },
     "output_type": "display_data"
    }
   ],
   "source": [
    "contracts.plot.scatter(x= 'obligated_amount', y='number_of_employees')#, c='black_american_owned_business', colormap='viridis')"
   ]
  },
  {
   "cell_type": "code",
<<<<<<< HEAD
   "execution_count": 28,
=======
   "execution_count": 48,
>>>>>>> f010fb1050090ecf9a829da1b582971c7a299a35
   "metadata": {},
   "outputs": [
    {
     "data": {
      "text/plain": [
<<<<<<< HEAD
       "<matplotlib.axes._subplots.AxesSubplot at 0x109ff04a8>"
      ]
     },
     "execution_count": 28,
=======
       "<matplotlib.axes._subplots.AxesSubplot at 0x1169f4b38>"
      ]
     },
     "execution_count": 48,
>>>>>>> f010fb1050090ecf9a829da1b582971c7a299a35
     "metadata": {},
     "output_type": "execute_result"
    },
    {
     "data": {
<<<<<<< HEAD
      "image/png": "iVBORw0KGgoAAAANSUhEUgAAAYMAAAEUCAYAAADJB1rpAAAABHNCSVQICAgIfAhkiAAAAAlwSFlzAAALEgAACxIB0t1+/AAAADh0RVh0U29mdHdhcmUAbWF0cGxvdGxpYiB2ZXJzaW9uMy4xLjAsIGh0dHA6Ly9tYXRwbG90bGliLm9yZy+17YcXAAAbLElEQVR4nO3df5xddX3n8dd7E1FRMEEGxCSPJki0BSoVBozVtVYqBHFJ2sI2bJWIsVkVi1Stgq7NiuJibWVlq2iESHBZIkUtWUFDCii6D35kEoQQUDMNFMagGUyIKAoNvveP853mMrkzc38k9w6Z9/PxmMec8znfc+/nXMK87/lx75FtIiJiYvsP3W4gIiK6L2EQEREJg4iISBhERAQJg4iIIGEQERHA5LEGSFoGvAnYYvvImvpfAu8GdgDX2f5AqZ8HLAKeAs62varU5wKfASYBl9q+sNRnASuAA4B1wFtsPzlWXwceeKBnzpzZ+JZGRARr1659xHbP8LrG+pyBpNcCvwCuGAoDSX8IfBg42fYTkg6yvUXS4cBVwHHAi4F/Bl5aHupHwBuAAWANcLrteyVdDXzN9gpJnwfusn3JWBvU29vrvr6+hjY+IiIqktba7h1eH/Mwke1bgK3Dyu8ELrT9RBmzpdTnAStsP2H7fqCfKhiOA/ptbyrv+lcA8yQJeD1wTVl/OTC/6a2LiIi2tHrO4KXAf5R0u6TvSDq21KcBD9WMGyi1keovBB61vWNYvS5JiyX1SeobHBxssfWIiBiu1TCYDEwF5gB/DVxd3uWrzli3UK/L9lLbvbZ7e3p2OeQVEREtGvME8ggGqI7zG7hD0m+AA0t9Rs246cDmMl2v/ggwRdLksndQOz4iIjqk1T2Df6I61o+klwL7UP1hXwkskPTscpXQbOAOqhPGsyXNkrQPsABYWcLkZuDU8rgLgWtb3ZiIiGhNI5eWXgW8DjhQ0gCwBFgGLJN0D/AksLD8Yd9Qrg66l+qS07NsP1Ue593AKqpLS5fZ3lCe4oPACkkfB+4ELtuN2xcREQ0Y89LS8SqXlkZENK/lS0sjImLv1+oJ5Ii90sxzr+t2CwA8cOHJ3W4hJpjsGURERMIgIiISBhERQcIgIiJIGEREBAmDiIggYRARESQMIiKChEFERJAwiIgIEgYREUHCICIiSBhERAQJg4iIIGEQEREkDCIiggbCQNIySVvK/Y6HL3u/JEs6sMxL0sWS+iXdLenomrELJW0sPwtr6sdIWl/WuViSdtfGRUREYxrZM7gcmDu8KGkG8AbgwZryScDs8rMYuKSMPQBYArwSOA5YImlqWeeSMnZovV2eKyIi9qwxw8D2LcDWOosuAj4AuKY2D7jClduAKZIOAU4EVtveansbsBqYW5btb/tW2wauAOa3t0kREdGsls4ZSDoF+LHtu4YtmgY8VDM/UGqj1Qfq1Ed63sWS+iT1DQ4OttJ6RETU0XQYSNoX+DDwN/UW16m5hXpdtpfa7rXd29PT00i7ERHRgFb2DF4CzALukvQAMB1YJ+lFVO/sZ9SMnQ5sHqM+vU49IiI6qOkwsL3e9kG2Z9qeSfUH/WjbPwFWAmeUq4rmANttPwysAk6QNLWcOD4BWFWWPSZpTrmK6Azg2t20bRER0aBGLi29CrgVeJmkAUmLRhl+PbAJ6Ae+CLwLwPZW4GPAmvJzfqkBvBO4tKzzL8A3W9uUiIho1eSxBtg+fYzlM2umDZw1wrhlwLI69T7gyLH6iIiIPSefQI6IiIRBREQkDCIigoRBRESQMIiICBIGERFBwiAiIkgYREQECYOIiCBhEBERJAwiIoKEQUREkDCIiAgSBhERQcIgIiJIGEREBAmDiIggYRARETR2D+RlkrZIuqem9ilJP5B0t6SvS5pSs+w8Sf2SfijpxJr63FLrl3RuTX2WpNslbZT0FUn77M4NjIiIsTWyZ3A5MHdYbTVwpO2XAz8CzgOQdDiwADiirPM5SZMkTQI+C5wEHA6cXsYCfBK4yPZsYBuwqK0tioiIpo0ZBrZvAbYOq91ge0eZvQ2YXqbnAStsP2H7fqAfOK789NveZPtJYAUwT5KA1wPXlPWXA/Pb3KaIiGjS7jhn8Dbgm2V6GvBQzbKBUhup/kLg0ZpgGarXJWmxpD5JfYODg7uh9YiIgDbDQNKHgR3AlUOlOsPcQr0u20tt99ru7enpabbdiIgYweRWV5S0EHgTcLztoT/gA8CMmmHTgc1lul79EWCKpMll76B2fEREdEhLewaS5gIfBE6x/XjNopXAAknPljQLmA3cAawBZpcrh/ahOsm8soTIzcCpZf2FwLWtbUpERLSqkUtLrwJuBV4maUDSIuAfgP2A1ZK+L+nzALY3AFcD9wLfAs6y/VR51/9uYBVwH3B1GQtVqLxXUj/VOYTLdusWRkTEmMY8TGT79DrlEf9g274AuKBO/Xrg+jr1TVRXG0VERJfkE8gREZEwiIiIhEFERJAwiIgIEgYREUHCICIiSBhERAQJg4iIIGEQEREkDCIigoRBRESQMIiICBIGERFBwiAiIkgYREQECYOIiCBhEBERNHbby2WStki6p6Z2gKTVkjaW31NLXZIultQv6W5JR9ess7CM3yhpYU39GEnryzoXS9Lu3siIiBhdI3sGlwNzh9XOBW60PRu4scwDnATMLj+LgUugCg9gCfBKqltcLhkKkDJmcc16w58rIiL2sDHDwPYtwNZh5XnA8jK9HJhfU7/ClduAKZIOAU4EVtveansbsBqYW5btb/tW2wauqHmsiIjokFbPGRxs+2GA8vugUp8GPFQzbqDURqsP1KlHREQH7e4TyPWO97uFev0HlxZL6pPUNzg42GKLERExXKth8NNyiIfye0upDwAzasZNBzaPUZ9ep16X7aW2e2339vT0tNh6REQM12oYrASGrghaCFxbUz+jXFU0B9heDiOtAk6QNLWcOD4BWFWWPSZpTrmK6Iyax4qIiA6ZPNYASVcBrwMOlDRAdVXQhcDVkhYBDwKnleHXA28E+oHHgTMBbG+V9DFgTRl3vu2hk9LvpLpi6bnAN8tPRER00JhhYPv0ERYdX2esgbNGeJxlwLI69T7gyLH6iIiIPSefQI6IiIRBREQkDCIigoRBRESQMIiICBIGERFBwiAiIkgYREQECYOIiCBhEBERJAwiIoKEQUREkDCIiAgSBhERQcIgIiJIGEREBAmDiIggYRAREbQZBpL+StIGSfdIukrScyTNknS7pI2SviJpnzL22WW+vyyfWfM455X6DyWd2N4mRUREs1oOA0nTgLOBXttHApOABcAngYtszwa2AYvKKouAbbYPAy4q45B0eFnvCGAu8DlJk1rtKyIimtfuYaLJwHMlTQb2BR4GXg9cU5YvB+aX6XllnrL8eEkq9RW2n7B9P9APHNdmXxER0YSWw8D2j4G/Ax6kCoHtwFrgUds7yrABYFqZngY8VNbdUca/sLZeZ52nkbRYUp+kvsHBwVZbj4iIYdo5TDSV6l39LODFwPOAk+oM9dAqIywbqb5r0V5qu9d2b09PT/NNR0REXe0cJvoj4H7bg7b/Dfga8PvAlHLYCGA6sLlMDwAzAMryFwBba+t11omIiA5oJwweBOZI2rcc+z8euBe4GTi1jFkIXFumV5Z5yvKbbLvUF5SrjWYBs4E72ugrIiKaNHnsIfXZvl3SNcA6YAdwJ7AUuA5YIenjpXZZWeUy4MuS+qn2CBaUx9kg6WqqINkBnGX7qVb7ioiI5rUcBgC2lwBLhpU3UedqINu/Bk4b4XEuAC5op5eIiGhdPoEcEREJg4iISBhERAQJg4iIIGEQEREkDCIigoRBRESQMIiICBIGERFBwiAiIkgYREQECYOIiCBhEBERJAwiIoKEQUREkDCIiAgSBhERQcIgIiJoMwwkTZF0jaQfSLpP0qskHSBptaSN5ffUMlaSLpbUL+luSUfXPM7CMn6jpIXtblRERDSn3T2DzwDfsv3bwFHAfcC5wI22ZwM3lnmAk4DZ5WcxcAmApAOo7qP8Sqp7Jy8ZCpCIiOiMlsNA0v7Aa4HLAGw/aftRYB6wvAxbDswv0/OAK1y5DZgi6RDgRGC17a22twGrgbmt9hUREc1rZ8/gUGAQ+JKkOyVdKul5wMG2HwYovw8q46cBD9WsP1BqI9V3IWmxpD5JfYODg220HhERtdoJg8nA0cAltl8B/JKdh4TqUZ2aR6nvWrSX2u613dvT09NsvxERMYJ2wmAAGLB9e5m/hiocfloO/1B+b6kZP6Nm/enA5lHqERHRIS2Hge2fAA9JelkpHQ/cC6wEhq4IWghcW6ZXAmeUq4rmANvLYaRVwAmSppYTxyeUWkREdMjkNtf/S+BKSfsAm4AzqQLmakmLgAeB08rY64E3Av3A42UstrdK+hiwpow73/bWNvuKiIgmtBUGtr8P9NZZdHydsQbOGuFxlgHL2uklIiJal08gR0REwiAiIhIGERFBwiAiIkgYREQECYOIiCBhEBERJAwiIoKEQUREkDCIiAgSBhERQcIgIiJIGEREBAmDiIggYRARESQMIiKChEFERJAwiIgIdkMYSJok6U5J3yjzsyTdLmmjpK+U+yMj6dllvr8sn1nzGOeV+g8lndhuTxER0ZzdsWfwHuC+mvlPAhfZng1sAxaV+iJgm+3DgIvKOCQdDiwAjgDmAp+TNGk39BUREQ1qKwwkTQdOBi4t8wJeD1xThiwH5pfpeWWesvz4Mn4esML2E7bvB/qB49rpKyIimtPunsH/BD4A/KbMvxB41PaOMj8ATCvT04CHAMry7WX8v9frrPM0khZL6pPUNzg42GbrERExpOUwkPQmYIvttbXlOkM9xrLR1nl60V5qu9d2b09PT1P9RkTEyCa3se6rgVMkvRF4DrA/1Z7CFEmTy7v/6cDmMn4AmAEMSJoMvADYWlMfUrtORER0QMt7BrbPsz3d9kyqE8A32f5z4Gbg1DJsIXBtmV5Z5inLb7LtUl9QrjaaBcwG7mi1r4iIaF47ewYj+SCwQtLHgTuBy0r9MuDLkvqp9ggWANjeIOlq4F5gB3CW7af2QF8RETGC3RIGtr8NfLtMb6LO1UC2fw2cNsL6FwAX7I5eIiKiefkEckREJAwiIiJhEBERJAwiIoKEQUREkDCIiAgSBhERQcIgIiJIGEREBAmDiIggYRAREeyZL6qLZ5iZ517X7RYAeODCk7vdQsSElT2DiIhIGERERMIgIiJIGEREBAmDiIigjTCQNEPSzZLuk7RB0ntK/QBJqyVtLL+nlrokXSypX9Ldko6ueayFZfxGSQtHes6IiNgz2tkz2AG8z/bvAHOAsyQdDpwL3Gh7NnBjmQc4iepm97OBxcAlUIUHsAR4JdXtMpcMBUhERHRGy2Fg+2Hb68r0Y8B9wDRgHrC8DFsOzC/T84ArXLkNmCLpEOBEYLXtrba3AauBua32FRERzdst5wwkzQReAdwOHGz7YagCAzioDJsGPFSz2kCpjVSPiIgOaTsMJD0f+Cpwju2fjza0Ts2j1Os912JJfZL6BgcHm282IiLqaisMJD2LKgiutP21Uv5pOfxD+b2l1AeAGTWrTwc2j1Lfhe2ltntt9/b09LTTekRE1GjnaiIBlwH32f50zaKVwNAVQQuBa2vqZ5SriuYA28thpFXACZKmlhPHJ5RaRER0SDtfVPdq4C3AeknfL7UPARcCV0taBDwInFaWXQ+8EegHHgfOBLC9VdLHgDVl3Pm2t7bRV0RENKnlMLD9Peof7wc4vs54A2eN8FjLgGWt9hIREe3JJ5AjIiJhEBERCYOIiCBhEBERJAwiIoKEQUREkDCIiAgSBhERQcIgIiJIGEREBAmDiIggYRARESQMIiKChEFERJAwiIgIEgYREUHCICIiSBhERATjKAwkzZX0Q0n9ks7tdj8RERNJy/dA3p0kTQI+C7wBGADWSFpp+97udhYxcc0897putwDAAxee3O0WJoRxEQbAcUC/7U0AklYA84CEQUR03UQIRtneYw/ecBPSqcBc228v828BXmn73cPGLQYWl9mXAT/saKO7OhB4pMs9jBd5LXbKa7FTXoudxstr8Vu2e4YXx8uegerUdkkp20uBpXu+ncZI6rPd2+0+xoO8Fjvltdgpr8VO4/21GC8nkAeAGTXz04HNXeolImLCGS9hsAaYLWmWpH2ABcDKLvcUETFhjIvDRLZ3SHo3sAqYBCyzvaHLbTVi3ByyGgfyWuyU12KnvBY7jevXYlycQI6IiO4aL4eJIiKiixIGERGRMIiIiIRBRESQMGhYudopRiDpJZL+m6R7ut1LJ0k6VtKLaubPkHStpIslHdDN3iKakTBo3Nu63cB4I+kQSedIugPYQHVZ8OldbqvTvgA8CSDptcCFwBXAdsb5pYR7gqSFktZJ+mX56ZN0Rrf76jRJN9RMn9fNXhqVMIimSfoLSTcB36H6vpW3Aw/b/qjt9d3truMm2d5apv8MWGr7q7Y/AhzWxb46rvzRPwd4H/BiYBrwAeA9EzAQar/757SuddGEcfGhs2eIl0v6eZ26ANvev9MNddFngVuB/2K7D0DSRP3AyiRJk23vAI5n5xcpwsT7/+tdwB/bfqCmdpOkPwVWUO0xTRTPuP8fJto/1nast/2KbjcxTryY6t3OpyUdDFwNPKu7LXXNVcB3JD0C/Ar4LoCkw6gOFU0k+w8LAgBsPyBpIr1ZAjhU0kqqN4tD0//O9indaWtk+QRygyTdmTDYlaQZVIdHTgf2Bb5u+0Pd7aqzJM0BDgFusP3LUnsp8Hzb67raXAdJWmv7mGaX7Y0k/cFoy21/p1O9NCph0CBJH7L9iW73MZ5JehmwwPZHu91Lp4x1xVDN+YS9nqTHgf56i4BDbT+vwy2NG5KeBRwJ/Nj2lm73U0/CoAmSTgLOAw6nOiZ4L/BJ29d3tbEOkzQb+DvgJcB64P22f9zdrrpD0v1U/xZEtXewmZ3357DtQ7vVW6dJ+q3Rltv+10710m2SPg/8L9sbJL2A6hzbU8ABVP+/XNXVButIGDRI0tuBd1BdHdFXyr1UlxJeWm68MyFI+i7VycBbgFOAV9n+k+521X05lBhDJG2wfUSZPgd4ne355TMp3xyP/05yArlx7wVeM2y3/6ayt/A9JtY15fvZ/mKZ/pSkCXNcfAwT+p2VpMd4+mtgqts83gx80PbPutJYdzxZM/0G4B8BbP9Eqndjx+5LGDRO9Y7/2v7ZeP2Puwc9R9Ir2Hk45Lm18xPppGnsZHu/4TVJU4G3Ap/nGXK9/W7yqKQ3AT8GXg0sApA0GXhuNxsbScKgcT+XdJTtu2qLko4CHutST93yE+DTI8wbeH3HO+oSSe+tmT1o2Dy2P80EZnsbcJGkt3S7lw77r8DFwIuAc2z/pNSPB67rWlejyDmDBkl6DXAl8CVgLdUfvWOBhcCbbX+vi+1Fl0haMtryiXRl1UjKlTRrbb+8273EyBIGTSgnf94FHEF1SGQD8Nma1J8QJH3A9t+W6dNs/2PNsk9MtM8ZREVSvYsIplJ9DuV7ts/vcEtdI+lvRlls2x/rWDMNShi0QFIPgO3BbvfSDZLW2T56+HS9+b2dpItHW2777E710m2SvjSsZOBnwLdtj8tDI3uKpPfVKe9L9T1eL7T9/A63NKacM2iQqrPES4CzqL7gT5KeorqWeMK84yk0wnS9+b3d2prpj1L9G5mQbJ/Z7R7GC9t/PzQtaT/gPVTffLwC+PuR1uumhEHjzqG6KuA42/cDSDoUuETSX9m+qKvdddbwywdHWrbXs718aFrSObXzE032kp6ufDr9vcCfA8uBo8sJ9XEpYdC4M4A32H5kqGB7k6Q3AzcAEykMjirf4Cqqy0qHvs1VwHO611bXTaggrCN7SYWkTwF/QvX5o9+1/YsutzSmnDNokKR7bB/Z7LKYOCba+ZLRTPRPY0v6DfAEsIOnv0kYt195nz2Dxj3Z4rLYiw371O2+w/aSxuX/9B0yod9l2n7G3TgsYdC4ozTyzW0m8qGRCa3ep24jnolymCgidovhe0nA40OLmNh7Sc8ICYOIiOAZd1wrIiJ2v4RBREQkDCIiImEQXSLpbEn3SbqyzceZKemeMt071qdgI6K+nECOrpD0A+Ckoa/2aONxZgLfyIf+ItqTPYPouHKz8EOBlZK2S3p/zbJ7yrv9mWXP4YuSNki6QdJzy5hjJN0l6VaqLw4cWvd1kr5Rpv+7pGWSvi1pk6Sza8Z9RNIPJK2WdFXt89fp9S8krSnP91VJ+5b6SyTdVpadL+kXNev8danfLemjpTba9hwm6Z/Lc6wrj/1lSfNqHvNKSaeM0ONbJX1N0rckbZT0tzXLLpHUV57zozX1ByR9QtKtZfnRklZJ+hdJ7xhtW2LvlDCIjrP9DmAz8IeM/p1Os6nuF3EE8Cjwp6X+JeBs268a46l+GzgROA5YIulZknrL47yC6rtjesd4jK/ZPtb2UcB9lNsXAp8BPmP72LItAEg6ofR9HPB7wDGSXjvG9lxZ6kcBvw88DFwKnFke8wWlfv0off4e1X0Dfhf4M0kzSv3DtnuBlwN/IKn2BjMPldfwu8DlwKnAHOD8BrYl9jIJgxjP7rf9/TK9FphZ/jBOsf2dUv/yKOtfZ/uJ8uWCW4CDgdcA19r+le3HgP87Rg9HSvqupPVU3z55RKm/inKTc+D/1Iw/ofzcCayjCqTZo2zPfsA0218HsP1r24+X7TtM0kHA6cBXbe8Ypc8bbW+3/WvgXuC3Sv0/S1pX+jkCOLxmnZXl93rgdtuPlXt0/FrSlDG2JfYy+TqK6LYdPP1NSe1XezxRM/0U1Y3ERePfezN8/ck0f7+Fy4H5tu+S9FbgdWOMF/A/bH/hacXq3MZI2zOSL1MF0AKq78IfzS7bKmkW8H7gWNvbJF1O/df3N8PW/w07X6tdtiX2TtkziG57ABi6a9rRwKzRBtt+FNiu6p7UUP2xbMb3gP8k6TmSng+cPMb4/YCHVd3Ht/a5bmPnYZ4FNfVVwNvKYyNpWnl3X5ftnwMDkuaX8c8eOi9BFUTnlHEbGtm4YfYHfkn1eh0MnNTk+k1tSzyzZc8guu2rwBmSvg+sAX7UwDpnAsskPU71B6thttdIWgncBfwr0AdsH2WVjwC3l7HrqcIBqj/S/1vV7Q2vG3oM2zdI+h3gVkkAvwDeTPVufSRvAb4g6Xzg34DTgE22fyrpPuCfmtnGmm29S9KdVPfq3gT8vybXH2lbtrTST4xvubQ0JhxJz7f9i/IO/BZgse11TT7GvsCvbFvSAuB02/PGWq+F51hPdYes0QIrom3ZM4iJaKmkw6mOny9vNgiKY4B/UPWW+VHGPqbfFEl/BCwDPp0giE7InkEEIOmzVPe4rvUZ21/qRj/1SDoR+OSw8v22/7gb/cTeJWEQERG5migiIhIGERFBwiAiIkgYREQE8P8Bmmjbj0e7i34AAAAASUVORK5CYII=\n",
      "text/plain": [
       "<Figure size 432x288 with 1 Axes>"
      ]
     },
     "metadata": {
      "needs_background": "light"
     },
     "output_type": "display_data"
    }
   ],
   "source": [
    "contracts.groupby(['funding_agency_name'])['obligated_amount'].count().plot(kind='bar')"
   ]
  },
  {
   "cell_type": "code",
   "execution_count": null,
   "metadata": {},
   "outputs": [],
   "source": []
  },
  {
   "cell_type": "code",
   "execution_count": null,
   "metadata": {},
   "outputs": [],
   "source": []
  },
  {
   "cell_type": "code",
   "execution_count": 29,
=======
      "image/png": "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\n",
      "text/plain": [
       "<Figure size 432x288 with 1 Axes>"
      ]
     },
     "metadata": {
      "needs_background": "light"
     },
     "output_type": "display_data"
    }
   ],
   "source": [
    "contracts.groupby(['funding_agency_name'])['obligated_amount'].count().plot(kind='bar')"
   ]
  },
  {
   "cell_type": "code",
   "execution_count": 36,
   "metadata": {},
   "outputs": [
    {
     "data": {
      "text/plain": [
       "348888718.0"
      ]
     },
     "execution_count": 36,
     "metadata": {},
     "output_type": "execute_result"
    }
   ],
   "source": []
  },
  {
   "cell_type": "code",
   "execution_count": null,
   "metadata": {},
   "outputs": [],
   "source": []
  },
  {
   "cell_type": "code",
   "execution_count": 39,
>>>>>>> f010fb1050090ecf9a829da1b582971c7a299a35
   "metadata": {},
   "outputs": [
    {
     "data": {
      "text/plain": [
       "sole_proprietorship\n",
<<<<<<< HEAD
       "False    5.918330e+09\n",
       "True     1.730749e+09\n",
       "Name: annual_revenue, dtype: float64"
      ]
     },
     "execution_count": 29,
=======
       "False    5.426029e+09\n",
       "True     1.523064e+09\n",
       "Name: annual_revenue, dtype: float64"
      ]
     },
     "execution_count": 39,
>>>>>>> f010fb1050090ecf9a829da1b582971c7a299a35
     "metadata": {},
     "output_type": "execute_result"
    }
   ],
   "source": [
    "contracts.groupby(['sole_proprietorship'])['annual_revenue'].mean() "
   ]
  },
  {
   "cell_type": "code",
<<<<<<< HEAD
   "execution_count": null,
   "metadata": {},
   "outputs": [],
   "source": []
=======
   "execution_count": 24,
   "metadata": {},
   "outputs": [
    {
     "ename": "SyntaxError",
     "evalue": "invalid syntax (<ipython-input-24-60d58484797a>, line 1)",
     "output_type": "error",
     "traceback": [
      "\u001b[0;36m  File \u001b[0;32m\"<ipython-input-24-60d58484797a>\"\u001b[0;36m, line \u001b[0;32m1\u001b[0m\n\u001b[0;31m    contracts[contracts['nonprofit_organization'] == True]['recipient_name'].unique())\u001b[0m\n\u001b[0m                                                                                     ^\u001b[0m\n\u001b[0;31mSyntaxError\u001b[0m\u001b[0;31m:\u001b[0m invalid syntax\n"
     ]
    }
   ],
   "source": [
    "contracts[contracts['nonprofit_organization'] == True]['recipient_name'].unique())"
   ]
>>>>>>> f010fb1050090ecf9a829da1b582971c7a299a35
  },
  {
   "cell_type": "code",
   "execution_count": 30,
   "metadata": {},
   "outputs": [
    {
     "data": {
      "text/plain": [
       "hispanic_american_owned_business  sole_proprietorship\n",
<<<<<<< HEAD
       "False                             False                  17941\n",
=======
       "False                             False                  17957\n",
>>>>>>> f010fb1050090ecf9a829da1b582971c7a299a35
       "                                  True                     517\n",
       "True                              False                     20\n",
       "                                  True                       5\n",
       "Name: recipient_name, dtype: int64"
      ]
     },
     "execution_count": 30,
     "metadata": {},
     "output_type": "execute_result"
    }
   ],
   "source": [
    "contracts.groupby(['hispanic_american_owned_business', 'sole_proprietorship'])['recipient_name'].count()"
   ]
  },
  {
   "cell_type": "code",
<<<<<<< HEAD
   "execution_count": 31,
=======
   "execution_count": 35,
>>>>>>> f010fb1050090ecf9a829da1b582971c7a299a35
   "metadata": {},
   "outputs": [
    {
     "data": {
      "text/plain": [
<<<<<<< HEAD
       "<matplotlib.axes._subplots.AxesSubplot at 0x11b1e3b38>"
      ]
     },
     "execution_count": 31,
=======
       "<matplotlib.axes._subplots.AxesSubplot at 0x115571f28>"
      ]
     },
     "execution_count": 35,
>>>>>>> f010fb1050090ecf9a829da1b582971c7a299a35
     "metadata": {},
     "output_type": "execute_result"
    },
    {
     "data": {
      "text/plain": [
       "<Figure size 432x288 with 0 Axes>"
      ]
     },
     "metadata": {},
     "output_type": "display_data"
    },
    {
     "data": {
      "image/png": "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\n",
      "text/plain": [
       "<Figure size 432x288 with 1 Axes>"
      ]
     },
     "metadata": {
      "needs_background": "light"
     },
     "output_type": "display_data"
    }
   ],
   "source": [
    "#contracts.groupby(['funding_agency_name'])\n",
    "plt.suptitle('')\n",
    "contracts[contracts['black_american_owned_business'] == True].boxplot(column=['obligated_amount'], by='funding_agency_name')"
   ]
  },
  {
   "cell_type": "code",
<<<<<<< HEAD
   "execution_count": 32,
=======
   "execution_count": 49,
>>>>>>> f010fb1050090ecf9a829da1b582971c7a299a35
   "metadata": {},
   "outputs": [
    {
     "data": {
      "text/plain": [
<<<<<<< HEAD
       "<matplotlib.axes._subplots.AxesSubplot at 0x11b8965f8>"
      ]
     },
     "execution_count": 32,
=======
       "<matplotlib.axes._subplots.AxesSubplot at 0x116baf048>"
      ]
     },
     "execution_count": 49,
>>>>>>> f010fb1050090ecf9a829da1b582971c7a299a35
     "metadata": {},
     "output_type": "execute_result"
    },
    {
     "data": {
      "text/plain": [
       "<Figure size 432x288 with 0 Axes>"
      ]
     },
     "metadata": {},
     "output_type": "display_data"
    },
    {
     "data": {
      "image/png": "iVBORw0KGgoAAAANSUhEUgAAAZoAAAEdCAYAAAA1s6EDAAAABHNCSVQICAgIfAhkiAAAAAlwSFlzAAALEgAACxIB0t1+/AAAADh0RVh0U29mdHdhcmUAbWF0cGxvdGxpYiB2ZXJzaW9uMy4xLjAsIGh0dHA6Ly9tYXRwbG90bGliLm9yZy+17YcXAAAgAElEQVR4nO3de5gcVZ3/8ffHhPs1gEQSsgQluglBFCLgGnWyYbmqQVeEyErAWSP+EHQXQTSyIDoKusqCKJg1kYCQGAE1LJeImFGjXBLuwqhECCQmcssFwk0Svr8/zhmodHp6pmdSM5OZz+t5+pmqc07VOVVd09+uU6erFBGYmZmV5XU93QAzM+vbHGjMzKxUDjRmZlYqBxozMyuVA42ZmZXKgcbMzErlQGMbkHSZpK/2dDt6Wq39IOkESfM3Uj2DJf1G0rOSvrUx1lmx/pC0V56+VNJZG7sOs1oG9nQDrG2SFgODgXXAy8DvgZMiYklPtqtIUgAjImJRT7dlEzYZeArYPkr+YVtEnFTm+s2q8RlN7/f+iNgW2A14HPhOD7enNEr64zG5B/Bg2UHGrKf0x3/qTVJEvAhcDYxqTZO0g6TLJT0p6VFJX2r9oJZ0iaSrC2XPl3RL/jBvkLRU0hclPSVpsaTj2qpb0ickLZK0QtIcSUNy+m9ykXslrZF0TJVlB0j6Vq7nEUmfzl05A3N+s6QmSb8DngfeKGlIrmdFrvcThfWt153Vui2F+cWSviDpQUkrJf1Q0paF/PdJukfSKkm/l/TWQt7bJd2Vu7B+DLy6XNu7Rt+RtFrSHyWNz4lHS7qzouBpkn5WZQWXAZOAM/I+PLiD2/g5Sfflun9csY2nS1ouaZmkj1fW17ruwnFwmqQn8jInFsruLOk6Sc9IWiDpqx3pLpR0oaQlebk7Jb27kLeVpBn5vWmRdEbFtg2RdE0+ph+RdGoh7xxJs/Mx/6ykBySNKeQPk3RtXvZpSRdL2iIfR/sUyu0q6QVJr6+xDe3tmyMl3Z23cYmkcwp5w/MxfmLOWynpJEnvyO/ZKkkXV9T38bw/VkqaK2mP9vbzJiUi/OqlL2AxcHCe3hqYAVxeyL8c+DmwHTAc+DPQWCj/Z+AE4N2krpndc14DsBb4NrAF8F7gOeAtOf8y4Kt5+p/zsvvlst8BflNoQwB71diGk4AHgd2BQcAv8zIDc34z8BiwN6krdzPg18D3SB/0bwOeBMZXtq2wLUsr9tkfgGHATsDvCtuyH/AEcCAwgPQBvzhv1+bAo8B/5DZ8mNRd+dU2tuuEvA9byx8DrM51bgGsAEYWyt8N/Gsb66rcpo5s4x3AkFxfC6lLFeAw0pnvaGAb4Krie1Tx3rYeB+fmbTiCFOwH5fxZ+bU16QvOEmB+B47bfwN2zu/nacDfgC1z3nn5/R2Uj4n7WreN9MX3TuC/8vvxRuBh4NCcfw7wYm7nAODrwG05bwBwL3BB3u4tgbE573vA+YX2fQa4rp1taG/fNAD75Da/Ne/zo3Le8LzPL83tOCS3+2fArsBQ0nH43lz+KGARMDLvsy8Bv+/pz5+N+lnW0w3wq8abkz5Q1gCr8kG/DNgn5w0AXgJGFcp/EmguzB9A+sB7FJhYSG/9J9qmkDYbOCtPFz+MpgHfKJTblvQBPDzPtxdofgV8sjB/MBsGmnML+cNI16S2K6R9Hbissm2Fban8ED6pMH8E8Jc8fQnwlYr2/YkUaN+T968Keb+ndqCpLH8H8LFCXU15em9gJbBFG+uq3KaObOO/Fea/AVyap6cD5xXy3kztQPNC63uR054ADiIdXy+Tv3zkvK/SgUBTZftWAvvm6VcDR57/d14LNAcCj1Us+wXgh3n6HOCXhbxRwAt5+p2kLyQDq9R/IClIvi7PLwQ+0k6b29w3bZT/H+CCPD087/OhhfyngWMK89cAn83TN5K/IOb515GC2h717uve+nLXWe93VETsSPqW/Gng15LeAOzCa9/CWz1K+rYEQETcQfrHFimQFK2MiOcqlh1Spf4hxToiYg3pn2ZolbLVDCH9k7eqNpChmDYEWBERz1a0raP1Va6vuF17AKflrotVklaRAtuQ/Ppr5P/0wrK1VCvfWtcM4KOSBHwMmB0RL9WxDe35W2H6edIXANhwf7e3DU9HxNoq63o96dt1e+/dBnJ3U0vu1lsF7EA6Xqu1rzi9BzCk4v35ImlATKvK7d5SqRt2GPBoxbYAEBG3k87Y3yvpH4G9gDkd2JS29g2SDpQ0L3fTrSadue9SsfzjhekXqsy3vmd7ABcWtnkF6X+2nmO+V3Og2URExLqIuJb0bX8sqTvrZdJB2uofgL+2zkg6mRSglgFnVKxykKRtKpZdVqXqZcU68jI7F+tpx3JSF0mrYVXKFD+slwE7Sdquom2t9T1H6spp9YYq6yvW8T+kbgtIH2pNEbFj6wvYCliQ2zlK6w/9/Yfqm/SqoTmQFMsvA4iI24C/k7otPwpc0c66ip4DJkn69zxfbRvbspz1t7+9bWjLk6Sz3vbeu/Xk6zGfBz5C6mbakdSl2Lqfah0PS4BHiu9PRGwXEUd0oL1LgH/IQaeaGaQuvY8BV0e65tkVV5GC1bCI2IHUTabai7RpCemsv7jdW0XE77vYxl7DgWYToWQCqW+7JSLWkc5SmiRtly8e/ifwo1z+zaSujtZ/rjMkva1itV+WtHn+cHgf8JMqVV8FnCjpbZK2AL4G3B4Ri3P+46S+9LbMBj4jaaikHUkfQm2KNHT798DXJW2pdLG+EbgyF7kHOELSTvnM7rNVVnOypN0l7UTqP38gp/8vcFL+NqpCoN0GuJV0pvaMpIGSPkTqeqxlV+BUSZtJOprUx35D68Vg0ntxMbA2Iur5zc09pGC+dY1tbMts4ARJoyRtDZxdx7KvysfXtcA5krbOZwLHd2DR7UgB6klgoKT/Ip3RnFBo3xckDZI0lHSW3uoO0v7/vNKggQGSRkt6RwfqvYMUxM6TtE0+dt5VyL8C+CDp/+HyDqyvPduRzrxflHQA6ctEZ11K2id7w6uDfI7eCG3sNRxoer/rJK0BngGagEkR0frBeQrp2+/DwHxSUJiev9X9iHQB9N6IeIjUBXFFDhaQuiBWkr6BX0m6rvHHysoj4hbgLFKf8nLgTcCxhSLnADPyaf9HqrT/f4FfkC763g3cQPogWldjmyeS+rmXAT8Fzo6Im3PeFaSLvovzen9cZfmrct7DwLOkfUNELAQ+QfrwX0m6ANu6nX8HPkT6QFxJurh/bY02AtwOjCCdXTYBH46Ipwv5PyJdlK/nbIZcfg1wPm1vY1URcSPpLO5XpO37VZ11F32aFCT+lts0k3RdsJa5pGsOfyZ1271I6nJqdS6wFHiENDDk6tZ15uD2ftIAkEdI+/UHuQ01FZbdizS4ZCnpPWzNXwrcRTp7/m176+uA/wecK+lZ0uCFyq7pDouIn5Le61mSniENZjl8I7Sx9+jpi0R+df+LiovL3Vz34aS+9I293pGkgQWvkILQB3L6ZaRvjDeTgs6vKVxkpY0L5Xn+DFJwXUa6aF0seyQpcD5D6vo4p7DcY7nsmvz36Jz+cdIIsZWkD+RiO/4F+COpm+ni3M5/b2eb30QKJE+TPpSvBHYs5C8GTicF+edIAzsGkwLBs6QP+kGF8h8gnf2tyvtyZMV++j4wo3JftR5PpBFmT+R9dmLOm0zq4v173h/XVWzDp4Bfd9OxN502Bnf4Ve7LZzRWqtwFckTujhpK6sr56UauYzPgOtK3/8dIH9RXSnpLLnIc8BXSxdp7eK0brtY6DyN1RR5M+pb83ooiz5G6knYkBZ1PSToq570n/z0HmBcRP8l5XySdNb2e9K16Zq5rF9IZ45dyG/8CFLt92mwmaUTeEFKgHZbrLPpXUhB7M+kb/425HbuQejROzW14c27PZ3P7bgBukrRf4TrU0bT93r2BdOYxlNTV+V1JgyJiKml/fyPSD48nS3qXpNfl9+e0GuvcaCQNJ+37aWXXZVX0dKTzq/tfdOMZDenC/QLSN+gngB+SbrWyMet4N6l753Xk3x6RPjTPIX3znlUouy2p225Ynm9r6O904OuF5faixlBuqg9vfRR4e05rcwgrKWDdVsgT6Qyh5hlNlTYcBdxdmF8MHFeYvwa4pDB/CvCzPH0WaWRcsX1PkAZhPJ+355u5be9m/bOUF3L+msLyrw4Frtive5C6hp7L6/4WsHnJx+BXcjunVKR/MadXvm7sjv+N/vTyvc76oYhoZv2RP2XW9TzQkYu5XTEEWBIRr5A+5JF0MK8ND311CG1ErJG0gg2H2VZb58LC/HplJR1I+vHhaNIw8y3YcDDFm+K14bGtQ1iLN81sHcK6XlsiIiS1O5RY0q7ARaQP/u1IwWFlRbGODrGtHMb+iqSHge9ExJV5cMP3I31C/1bSlaQvK1+S1AD8KCKKx1RxyDWF9T5K2mfdJiLOIgXSyvSvkQa3WMncdWZ9wTJgmNa/T1pxSPSrQ2glbUv6NX21odxF7Q3LrjW8NdhQrSGs6w1Jzl1V7Q4lJnWbBfDWiNieNKKqs0NsK4ext7ahdR8+T/vDyttSbX9YP+JAY31B6w/yzshDjRtI1yNm5fwjJI2VtDmpG+X2aP8O2LNJw7pH5mHC/1WRX2t465OkQQnFYd+1hrBeD+wt6UN5xOCpdOyDfDvynSPy9a/TO7BMW2YDR0oan695nUYaDdb6W457SD9AHZCvX1Ves6qlvSHw1sc50NgmL9LQ5A+QRrQ9Rbq31fHx2nDtq0iDEFYA+5MGB7S3zhtJ3VLzSMOEb81ZrcN72xzemrsLm4Df5WHfB0WNIawR8RTpQvt5pBFkI0j3aGvPl0n3b1tNClbtDceutb1/Ip0RfYe0D99PunP433ORz+S0VaT9t8ENQmuYRvox7CpVubGo9X3KF8XMrAZJI0nBYYuocpsTM2ubz2jM2iDpg/nOCYNIZyPXOciY1c+BxqxtnyRdb/kLaUj0p7q7AUqPXl5T5XVpd7fFrLPcdWZmZqXyGY2ZmZXKgcbMzErVb+4MsMsuu8Tw4cN7uhl9znPPPcc222zTfkGzXsLHbHnuvPPOpyLi9ZXp/SbQDB8+nIULF7Zf0OrS3NxMQ0NDTzfDrMN8zJZHUtUnurrrzMzMSuVAY2ZmpXKgMTOzUjnQmJlZqRxozMysVA40ZmZWKgcaMzMrlQONmZmVqt/8YNO6Jj3Zt36+aauZ+YzGOiQiqr72+Pz/tZnnIGNm4EBjZmYlc6AxM7NSOdCYmVmpHGjMzKxUDjRmZlYqBxozMyuVA42ZmZXKgcbMzErlQGNmZqVyoDEzs1I50JiZWakcaMzMrFTtBhpJ0yU9IekPhbSdJN0s6aH8d1BOl6SLJC2SdJ+k/QrLTMrlH5I0qZC+v6T78zIXKd8muDN1mJlZ79ORM5rLgMMq0s4EbomIEcAteR7gcGBEfk0GLoEUNICzgQOBA4CzWwNHLjO5sNxhnanDzMx6p3YDTUT8BlhRkTwBmJGnZwBHFdIvj+Q2YEdJuwGHAjdHxIqIWAncDByW87aPiFsj3VP+8op11VOHmZn1Qp29RjM4IpYD5L+75vShwJJCuaU5rVb60irpnanDzMx6oY39hM1qj2GMTqR3po4NC0qTSd1rDB48mObm5nZWbZ3h/WqbkjVr1viY7WadDTSPS9otIpbnbqsncvpSYFih3O7AspzeUJHenNN3r1K+M3VsICKmAlMBxowZEw0NDdWKWVfcdD3er7YpaW5u9jHbzTrbdTYHaB05Ngn4eSH9+Dwy7CBgde72mgscImlQHgRwCDA35z0r6aA82uz4inXVU4eZmfVC7Z7RSJpJOhvZRdJS0uix84DZkhqBx4Cjc/EbgCOARcDzwIkAEbFC0leABbncuRHROsDgU6SRbVsBN+YX9dZhZma9U7uBJiImtpE1vkrZAE5uYz3TgelV0hcCo6ukP11vHWZm1vv4zgBmZlYqBxozMyuVA42ZmZXKgcbMzErlQGNmZqVyoDEzs1I50JiZWakcaMzMrFQONGZmVioHGjMzK5UDjZmZlcqBxszMSuVAY2ZmpXKgMTOzUjnQmJlZqRxozMysVA40ZmZWKgcaMzMrlQONmZmVyoHGzMxK5UBjZmalcqAxM7NSOdCYmVmpHGjMzKxUDjRmZlYqBxozMyuVA42ZmZWqS4FG0n9IekDSHyTNlLSlpD0l3S7pIUk/lrR5LrtFnl+U84cX1vOFnP4nSYcW0g/LaYsknVlIr1qHmZn1PgM7u6CkocCpwKiIeEHSbOBY4AjggoiYJelSoBG4JP9dGRF7SToWOB84RtKovNzewBDgl5LenKv5LvAvwFJggaQ5EfFgXrZaHdZF+375F6x+4eW6lhl+5vV1ld9hq8249+xD6lrGzDZdnQ40heW3kvQysDWwHPhn4KM5fwZwDikITMjTAFcDF0tSTp8VES8Bj0haBByQyy2KiIcBJM0CJkhqqVGHddHqF15m8XlHdrh8c3MzDQ0NddVRb2Ays01bp7vOIuKvwH8Dj5ECzGrgTmBVRKzNxZYCQ/P0UGBJXnZtLr9zMb1imbbSd65Rh5mZ9TJd6TobRDob2RNYBfwEOLxK0WhdpI28ttKrBcFa5au1cTIwGWDw4ME0NzdXK2YV6tlPa9as6dR+9XthPaWzx6x1Xle6zg4GHomIJwEkXQv8E7CjpIH5jGN3YFkuvxQYBiyVNBDYAVhRSG9VXKZa+lM16lhPREwFpgKMGTMm6u3i6Zduur6urrDOdJ3VW4fZxtSpY9a6pCujzh4DDpK0db7WMh54EJgHfDiXmQT8PE/PyfPk/F9FROT0Y/OotD2BEcAdwAJgRB5htjlpwMCcvExbdZiZWS/TlWs0t5Mu6t8F3J/XNRX4PPCf+aL+zsC0vMg0YOec/p/AmXk9DwCzSUHqJuDkiFiXz1Y+DcwFWoDZuSw16jAzs16mS6POIuJs4OyK5Id5bdRYseyLwNFtrKcJaKqSfgNwQ5X0qnWYmVnv4zsDmJlZqRxozMysVA40ZmZWKgcaMzMrlQONmZmVyoHGzMxK5UBjZmalcqAxM7NSOdCYmVmpHGjMzKxUDjRmZlYqBxozMyuVA42ZmZXKgcbMzErlQGNmZqVyoDEzs1I50JiZWakcaMzMrFQONGZmVioHGjMzK5UDjZmZlcqBxszMSuVAY2ZmpXKgMTOzUjnQmJlZqRxozMysVA40ZmZWqi4FGkk7Srpa0h8ltUh6p6SdJN0s6aH8d1AuK0kXSVok6T5J+xXWMymXf0jSpEL6/pLuz8tcJEk5vWodZmbW+3T1jOZC4KaI+EdgX6AFOBO4JSJGALfkeYDDgRH5NRm4BFLQAM4GDgQOAM4uBI5LctnW5Q7L6W3VYWZmvUynA42k7YH3ANMAIuLvEbEKmADMyMVmAEfl6QnA5ZHcBuwoaTfgUODmiFgRESuBm4HDct72EXFrRARwecW6qtVhZma9zMAuLPtG4Engh5L2Be4EPgMMjojlABGxXNKuufxQYElh+aU5rVb60irp1KhjPZImk86IGDx4MM3NzZ3b0n6mnv20Zs2aTu1XvxfWUzp7zFrndSXQDAT2A06JiNslXUjtLixVSYtOpHdYREwFpgKMGTMmGhoa6lm8f7rpeurZT83NzXWV70wdZhtTp45Z65KuXKNZCiyNiNvz/NWkwPN47vYi/32iUH5YYfndgWXtpO9eJZ0adZiZWS/T6UATEX8Dlkh6S04aDzwIzAFaR45NAn6ep+cAx+fRZwcBq3P311zgEEmD8iCAQ4C5Oe9ZSQfl0WbHV6yrWh1mZtbLdKXrDOAU4EpJmwMPAyeSgtdsSY3AY8DRuewNwBHAIuD5XJaIWCHpK8CCXO7ciFiRpz8FXAZsBdyYXwDntVGHmZn1Ml0KNBFxDzCmStb4KmUDOLmN9UwHpldJXwiMrpL+dLU6zMys9/GdAczMrFQONGZmVioHGjMzK5UDjZmZlcqBxszMSuVAY2ZmpXKgMTOzUjnQmJlZqRxozMysVA40ZmZWKgcaM+sXZs6cyejRoxk/fjyjR49m5syZPd2kfqOrN9U0M+v1Zs6cyZQpU5g2bRrr1q1jwIABNDY2AjBx4sQebl3f5zMaM+vzmpqamDZtGuPGjWPgwIGMGzeOadOm0dTU1NNN6xccaMysz2tpaWHs2LHrpY0dO5aWlpYealH/4kBjZn3eyJEjmT9//npp8+fPZ+TIkT3Uov7FgcbM+rwpU6bQ2NjIvHnzWLt2LfPmzaOxsZEpU6b0dNP6BQ8GMLM+r/WC/ymnnEJLSwsjR46kqanJAwG6iQONmfULEydOZOLEiTQ3N9PQ0NDTzelX3HVmZmalcqAxM7NSOdCYmVmpHGjMzKxUDjRmZlYqBxozMyuVA42ZmZXKgcbM+gU/JqDndPkHm5IGAAuBv0bE+yTtCcwCdgLuAj4WEX+XtAVwObA/8DRwTEQszuv4AtAIrANOjYi5Of0w4EJgAPCDiDgvp1eto6vbYmZ9kx8T0LM2xhnNZ4DiLVDPBy6IiBHASlIAIf9dGRF7ARfkckgaBRwL7A0cBnxP0oAcwL4LHA6MAibmsrXqMDPbgB8T0LO6FGgk7Q4cCfwgzwv4Z+DqXGQGcFSenpDnyfnjc/kJwKyIeCkiHgEWAQfk16KIeDifrcwCJrRTh5nZBvyYgJ7V1TOa/wHOAF7J8zsDqyJibZ5fCgzN00OBJQA5f3Uu/2p6xTJtpdeqw8xsA35MQM/q9DUaSe8DnoiIOyU1tCZXKRrt5LWVXi0I1ipfrY2TgckAgwcPprm5uVoxq1DPflqzZk2n9qvfC+tOH/zgBznuuOM4/fTT2XPPPbngggv45je/SWNjo4/FbtCVwQDvAj4g6QhgS2B70hnOjpIG5jOO3YFlufxSYBiwVNJAYAdgRSG9VXGZaulP1ahjPRExFZgKMGbMmPAdWzvgpuvrurNtp+6EW2cdZl3V0NDAqFGjaGpqevUxAd/61rc8EKCbKKLqyUB9K0lnNJ/Lo85+AlwTEbMkXQrcFxHfk3QysE9EnCTpWOBDEfERSXsDV5GuyQwBbgFGkM5c/gyMB/4KLAA+GhEPtFVHrTaOGTMmFi5c2OVt7ev2mbFPt9Rz/6T7u6Ues0p+TEB5JN0ZEWMq08t4Hs3ngVmSvgrcDUzL6dOAKyQtIp3JHAuQA8ds4EFgLXByRKzLjf40MJc0vHl6RDzQTh3WRc+2nMfi847scPnO/NMOP/P6OltlZpuyjRJoIqIZaM7TD5POTirLvAgc3cbyTcAG4wwj4gbghirpVeswM7Pex3cGMDOzUjnQmJlZqRxozMysVA40ZmZWKgcaMzMrlQONmZmVyoHGzMxK5UBjZmalcqAxM7NSOdCYmVmpHGjMzKxUDjRmZlYqBxozMyuVA42ZmZXKgcbMzErlQGNmZqVyoDEzs1I50JiZWakcaMzMrFQONGZmVioHGjMzK5UDjZmZlcqBxszMSuVAY2ZmpXKgMTOzUjnQmJlZqRxozMysVJ0ONJKGSZonqUXSA5I+k9N3knSzpIfy30E5XZIukrRI0n2S9iusa1Iu/5CkSYX0/SXdn5e5SJJq1WFmZr1PV85o1gKnRcRI4CDgZEmjgDOBWyJiBHBLngc4HBiRX5OBSyAFDeBs4EDgAODsQuC4JJdtXe6wnN5WHWZm1st0OtBExPKIuCtPPwu0AEOBCcCMXGwGcFSengBcHsltwI6SdgMOBW6OiBURsRK4GTgs520fEbdGRACXV6yrWh1mZtbLbJRrNJKGA28HbgcGR8RySMEI2DUXGwosKSy2NKfVSl9aJZ0adZiZWS8zsKsrkLQtcA3w2Yh4Jl9GqVq0Slp0Ir2etk0mdb0xePBgmpub61m836pnP61Zs6ZT+9XvhfWUzh6z1nldCjSSNiMFmSsj4tqc/Lik3SJiee7+eiKnLwWGFRbfHViW0xsq0ptz+u5VyteqYz0RMRWYCjBmzJhoaGioVsyKbrqeevZTc3NzXeU7U4fZxtSpY9a6pCujzgRMA1oi4tuFrDlA68ixScDPC+nH59FnBwGrc7fXXOAQSYPyIIBDgLk571lJB+W6jq9YV7U6zMysl+nKGc27gI8B90u6J6d9ETgPmC2pEXgMODrn3QAcASwCngdOBIiIFZK+AizI5c6NiBV5+lPAZcBWwI35RY06zMysl+l0oImI+VS/jgIwvkr5AE5uY13TgelV0hcCo6ukP12tDjMz6318ZwAzMyuVA42ZmZXKgcbMzErlQGNmZqVyoDEzs1I50JiZWakcaMysX5g5cyajR49m/PjxjB49mpkzZ/Z0k/qNLt/rzMyst5s5cyZTpkxh2rRprFu3jgEDBtDY2AjAxIkTe7h1fZ/PaMysz2tqamLatGmMGzeOgQMHMm7cOKZNm0ZTU1NPN61fcKAxsz6vpaWFsWPHrpc2duxYWlpaeqhF/YsDjZn1eSNHjmT+/Pnrpc2fP5+RI0f2UIv6FwcaM+vzpkyZQmNjI/PmzWPt2rXMmzePxsZGpkyZ0tNN6xc8GMDM+rzWC/6nnHIKLS0tjBw5kqamJg8E6CYONGbWL0ycOJGJEyf6wWc9wF1nZmZWKgcaMzMrlQONmZmVyoHGzMxK5UBjZmalcqAxM7NSOdCYmVmpHGjMzKxUDjRmZlYq3xnANjD8zOvrW+Cm+srvsNVm9a3frBMkdWq5iNjILTEHGlvP4vOOrKv88DOvr3sZs+7QVsDwMdv93HVmZmalcqAxM7NSbbJdZ5IOAy4EBgA/iIjzerhJZtbN9v3yL1j9wst1L1fvdcgdttqMe88+pO56LNkkA42kAcB3gX8BlgILJM2JiAd7tmVm1p1eGX4a23VHPQDc3w019U2bZKABDgAWRcTDAJJmARMABxqzfuTZlu7pyPBIya7ZVAPNUGBJYX4pcGBlIUmTgckAgwcPprm5uVsa1xeNGzeuzTyd3/Zy8+bNK6E1Zsllh23TZl6tY7aWto5Zf3503qYaaKoNkN9gLGNETAWmAowZMyb8VL3Oa2uoqJ9WaL2Vj9neY1MddbYUGFaY3x1Y1kNtMTOzGjbVQLMAGCFpT0mbA8cCc3q4TWZmVsUm2Rr5eVoAAAZySURBVHUWEWslfRqYSxrePD0iHujhZpmZWRWbZKABiIgbgBt6uh1mZlbbptp1ZmZmmwgHGjMzK5UDjZmZlcqBxszMSqX+8pAfSU8Cj/Z0O/qgXYCneroRZnXwMVuePSLi9ZWJ/SbQWDkkLYyIMT3dDrOO8jHb/dx1ZmZmpXKgMTOzUjnQWFdN7ekGmNXJx2w38zUaMzMrlc9ozMysVA40VpOkdZLuKbzOzOnNkv4k6V5Jv5P0lsIyr5f0sqRP9lzLrT+StKZi/gRJF+fpcyR9riJ/saRd8vQUSQ9Iui8f6xs8TNE6Z5O9qaZ1mxci4m1t5B0XEQvzk0y/CXwgpx8N3AZMBL7fDW006xJJ7wTeB+wXES/l4LN5Dzerz/AZjW0MvwH2KsxPBE4Ddpc0tGeaZFaX3YCnIuIlgIh4KiL8MMWNxIHG2rNVRdfZMVXKvB+4H0DSMOANEXEHMBuoVt6sLOsdr8C5Ffn/UZE/JKf/Ahgm6c+Svifpvd3a6j7OXWfWnlpdZ1dKegFYDJyS044lBRiAWcA04NulttDsNesdr5JOAIp3AbggIv67kL8YICLWSNofeDcwDvixpDMj4rLuaHRf50BjXXFcRCysSJsIDJZ0XJ4fImlERDzUzW0zq0tErAOagWZJ9wOTgMt6sk19hbvObKPJI8+2iYihETE8IoYDXyed5Zj1WpLeImlEIelt+Ca8G40DjbWn8hrNeTXKTgR+WpF2TU436822BWZIelDSfcAo4JyebVLf4TsDmJlZqXxGY2ZmpXKgMTOzUjnQmJlZqRxozMysVA40ZmZWKgcaMzMrlQONbdIknSqpRdKVXVzPcEl/yNNjJF20cVpoZv4djW3SJP0RODwiHunieoYD/xcRozdGu8zsNT6jsU2WpEuBNwJzJK0uPtRK0h/yWcrwfMbzv/mhVr+QtFUus39+cNutwMmFZRsk/V+ePkfS9Pygt4clnVood5akP0q6WdLMyodqVbT1E5IW5PqukbR1Tn+TpNty3rnFB3dJOj2n3yfpyzmt1vbsJemXuY678rqvkDShsM4rJX2gsn057wRJ10q6SdJDkr5RyLtE0sJc55cL6YslfU3SrTl/P0lzJf1F0km1tsX6Dwca22RFxEnAMtLddi+oUXQE8N2I2BtYBfxrTv8hcGpEvLOdqv4ROBQ4ADhb0maSxuT1vB34EOvfIbiaayPiHRGxL9ACNOb0C4ELI+IdeVsAkHRIbvcBpPtu7S/pPe1sz5U5fV/gn4DlwA+AE/M6d8jpN9Ro59tIj3bYBzgmP/YBYEpEjAHeCrxX0lsLyyzJ+/C3pJtQfhg4iHyL/na2xfoBBxrrDx6JiHvy9J3A8Pyhu2NE/DqnX1Fj+esj4qWIeAp4AhgMjAV+HhEvRMSzwHXttGG0pN/muwIfB+yd098J/CRPX1Uof0h+3Q3cRQp2rTd9rLY92wFDI+KnABHxYkQ8n7dvL0m7ku45d01ErK3RzlsiYnVEvAg8COyR0z8i6a7cnr1J9wJrNSf/vR+4PSKejYgngRcl7djOtlg/4McEWF+xlvW/OG1ZmH6pML0O2AoQ0NELlJXLD8zL1+My4KiIuDc/I6WhnfICvh4R6z0KO19Lamt72nIFKbgdC3y8nXo32FZJewKfA94RESslXUb1/ftKxfKv8Nq+2mBbrP/wGY31FYuB/QAk7QfsWatwRKwCVksam5OOq1W+ivnA+yVtKWlb4Mh2ym8HLJe0WUVdt/Fa11fxcQpzgY/ndSNpaD4rqSoingGWSjoql9+i9ToQKch9Npd7oCMbV2F74DnS/hoMHF7n8nVti/U9PqOxvuIa4Hilx/MuAP7cgWVOBKZLep70YdhhEbFA0hzgXtJzSxYCq2sschZwey57PynwQAoAP5J0GnB96zoi4heSRgK3SgJYA/wb6SyjLR8Dvi/pXOBl4Gjg4Yh4XFIL8LN6trGwrfdKuht4AHgY+F2dy7e1LU90pj226fHwZrNOkrRtfgTw1sBvgMkRcVed69ia9PjhkHQsMDEiJrS3XCfquB/YLyJqBUOzUviMxqzzpkoaRbpeMaPeIJPtD1ys9FV/Fe1fQ6mLpIOB6cC3HWSsp/iMxmwjkvRd4F0VyRdGxA97oj3VSDoUOL8i+ZGI+GBPtMf6PgcaMzMrlUedmZlZqRxozMysVA40ZmZWKgcaMzMrlQONmZmV6v8D8gLj8PEj1HYAAAAASUVORK5CYII=\n",
      "text/plain": [
       "<Figure size 432x288 with 1 Axes>"
      ]
     },
     "metadata": {
      "needs_background": "light"
     },
     "output_type": "display_data"
    }
   ],
   "source": [
    "plt.suptitle('')\n",
    "contracts[contracts['hispanic_american_owned_business'] == True].boxplot(column=['obligated_amount'], by='funding_agency_name')"
   ]
  },
  {
   "cell_type": "code",
<<<<<<< HEAD
   "execution_count": 33,
=======
   "execution_count": 50,
>>>>>>> f010fb1050090ecf9a829da1b582971c7a299a35
   "metadata": {},
   "outputs": [
    {
     "data": {
      "text/plain": [
<<<<<<< HEAD
       "<matplotlib.axes._subplots.AxesSubplot at 0x11b896208>"
      ]
     },
     "execution_count": 33,
=======
       "<matplotlib.axes._subplots.AxesSubplot at 0x11659d908>"
      ]
     },
     "execution_count": 50,
>>>>>>> f010fb1050090ecf9a829da1b582971c7a299a35
     "metadata": {},
     "output_type": "execute_result"
    },
    {
     "data": {
      "text/plain": [
       "<Figure size 432x288 with 0 Axes>"
      ]
     },
     "metadata": {},
     "output_type": "display_data"
    },
    {
     "data": {
<<<<<<< HEAD
      "image/png": "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\n",
=======
      "image/png": "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\n",
>>>>>>> f010fb1050090ecf9a829da1b582971c7a299a35
      "text/plain": [
       "<Figure size 432x288 with 1 Axes>"
      ]
     },
     "metadata": {
      "needs_background": "light"
     },
     "output_type": "display_data"
    }
   ],
   "source": [
    "plt.suptitle('')\n",
    "contracts.boxplot(column=['obligated_amount'], by='funding_agency_name')"
   ]
  },
  {
   "cell_type": "code",
<<<<<<< HEAD
   "execution_count": 71,
   "metadata": {},
   "outputs": [
    {
     "ename": "TypeError",
     "evalue": "Empty 'DataFrame': no numeric data to plot",
     "output_type": "error",
     "traceback": [
      "\u001b[0;31m---------------------------------------------------------------------------\u001b[0m",
      "\u001b[0;31mTypeError\u001b[0m                                 Traceback (most recent call last)",
      "\u001b[0;32m<ipython-input-71-ae281a0c68ea>\u001b[0m in \u001b[0;36m<module>\u001b[0;34m\u001b[0m\n\u001b[0;32m----> 1\u001b[0;31m \u001b[0mcontracts\u001b[0m\u001b[0;34m.\u001b[0m\u001b[0mplot\u001b[0m\u001b[0;34m(\u001b[0m\u001b[0mx\u001b[0m\u001b[0;34m=\u001b[0m\u001b[0;34m\"obligated_amount\"\u001b[0m\u001b[0;34m,\u001b[0m \u001b[0my\u001b[0m\u001b[0;34m=\u001b[0m \u001b[0;34m[\u001b[0m\u001b[0;34m'hispanic_american_owned_business'\u001b[0m\u001b[0;34m,\u001b[0m \u001b[0;34m'black_american_owned_business'\u001b[0m\u001b[0;34m]\u001b[0m\u001b[0;34m,\u001b[0m \u001b[0mkind\u001b[0m\u001b[0;34m=\u001b[0m\u001b[0;34m'bar'\u001b[0m\u001b[0;34m)\u001b[0m\u001b[0;34m\u001b[0m\u001b[0;34m\u001b[0m\u001b[0m\n\u001b[0m",
      "\u001b[0;32m~/anaconda3/lib/python3.7/site-packages/pandas/plotting/_core.py\u001b[0m in \u001b[0;36m__call__\u001b[0;34m(self, x, y, kind, ax, subplots, sharex, sharey, layout, figsize, use_index, title, grid, legend, style, logx, logy, loglog, xticks, yticks, xlim, ylim, rot, fontsize, colormap, table, yerr, xerr, secondary_y, sort_columns, **kwds)\u001b[0m\n\u001b[1;32m   2940\u001b[0m                           \u001b[0mfontsize\u001b[0m\u001b[0;34m=\u001b[0m\u001b[0mfontsize\u001b[0m\u001b[0;34m,\u001b[0m \u001b[0mcolormap\u001b[0m\u001b[0;34m=\u001b[0m\u001b[0mcolormap\u001b[0m\u001b[0;34m,\u001b[0m \u001b[0mtable\u001b[0m\u001b[0;34m=\u001b[0m\u001b[0mtable\u001b[0m\u001b[0;34m,\u001b[0m\u001b[0;34m\u001b[0m\u001b[0;34m\u001b[0m\u001b[0m\n\u001b[1;32m   2941\u001b[0m                           \u001b[0myerr\u001b[0m\u001b[0;34m=\u001b[0m\u001b[0myerr\u001b[0m\u001b[0;34m,\u001b[0m \u001b[0mxerr\u001b[0m\u001b[0;34m=\u001b[0m\u001b[0mxerr\u001b[0m\u001b[0;34m,\u001b[0m \u001b[0msecondary_y\u001b[0m\u001b[0;34m=\u001b[0m\u001b[0msecondary_y\u001b[0m\u001b[0;34m,\u001b[0m\u001b[0;34m\u001b[0m\u001b[0;34m\u001b[0m\u001b[0m\n\u001b[0;32m-> 2942\u001b[0;31m                           sort_columns=sort_columns, **kwds)\n\u001b[0m\u001b[1;32m   2943\u001b[0m     \u001b[0m__call__\u001b[0m\u001b[0;34m.\u001b[0m\u001b[0m__doc__\u001b[0m \u001b[0;34m=\u001b[0m \u001b[0mplot_frame\u001b[0m\u001b[0;34m.\u001b[0m\u001b[0m__doc__\u001b[0m\u001b[0;34m\u001b[0m\u001b[0;34m\u001b[0m\u001b[0m\n\u001b[1;32m   2944\u001b[0m \u001b[0;34m\u001b[0m\u001b[0m\n",
      "\u001b[0;32m~/anaconda3/lib/python3.7/site-packages/pandas/plotting/_core.py\u001b[0m in \u001b[0;36mplot_frame\u001b[0;34m(data, x, y, kind, ax, subplots, sharex, sharey, layout, figsize, use_index, title, grid, legend, style, logx, logy, loglog, xticks, yticks, xlim, ylim, rot, fontsize, colormap, table, yerr, xerr, secondary_y, sort_columns, **kwds)\u001b[0m\n\u001b[1;32m   1971\u001b[0m                  \u001b[0myerr\u001b[0m\u001b[0;34m=\u001b[0m\u001b[0myerr\u001b[0m\u001b[0;34m,\u001b[0m \u001b[0mxerr\u001b[0m\u001b[0;34m=\u001b[0m\u001b[0mxerr\u001b[0m\u001b[0;34m,\u001b[0m\u001b[0;34m\u001b[0m\u001b[0;34m\u001b[0m\u001b[0m\n\u001b[1;32m   1972\u001b[0m                  \u001b[0msecondary_y\u001b[0m\u001b[0;34m=\u001b[0m\u001b[0msecondary_y\u001b[0m\u001b[0;34m,\u001b[0m \u001b[0msort_columns\u001b[0m\u001b[0;34m=\u001b[0m\u001b[0msort_columns\u001b[0m\u001b[0;34m,\u001b[0m\u001b[0;34m\u001b[0m\u001b[0;34m\u001b[0m\u001b[0m\n\u001b[0;32m-> 1973\u001b[0;31m                  **kwds)\n\u001b[0m\u001b[1;32m   1974\u001b[0m \u001b[0;34m\u001b[0m\u001b[0m\n\u001b[1;32m   1975\u001b[0m \u001b[0;34m\u001b[0m\u001b[0m\n",
      "\u001b[0;32m~/anaconda3/lib/python3.7/site-packages/pandas/plotting/_core.py\u001b[0m in \u001b[0;36m_plot\u001b[0;34m(data, x, y, subplots, ax, kind, **kwds)\u001b[0m\n\u001b[1;32m   1799\u001b[0m         \u001b[0mplot_obj\u001b[0m \u001b[0;34m=\u001b[0m \u001b[0mklass\u001b[0m\u001b[0;34m(\u001b[0m\u001b[0mdata\u001b[0m\u001b[0;34m,\u001b[0m \u001b[0msubplots\u001b[0m\u001b[0;34m=\u001b[0m\u001b[0msubplots\u001b[0m\u001b[0;34m,\u001b[0m \u001b[0max\u001b[0m\u001b[0;34m=\u001b[0m\u001b[0max\u001b[0m\u001b[0;34m,\u001b[0m \u001b[0mkind\u001b[0m\u001b[0;34m=\u001b[0m\u001b[0mkind\u001b[0m\u001b[0;34m,\u001b[0m \u001b[0;34m**\u001b[0m\u001b[0mkwds\u001b[0m\u001b[0;34m)\u001b[0m\u001b[0;34m\u001b[0m\u001b[0;34m\u001b[0m\u001b[0m\n\u001b[1;32m   1800\u001b[0m \u001b[0;34m\u001b[0m\u001b[0m\n\u001b[0;32m-> 1801\u001b[0;31m     \u001b[0mplot_obj\u001b[0m\u001b[0;34m.\u001b[0m\u001b[0mgenerate\u001b[0m\u001b[0;34m(\u001b[0m\u001b[0;34m)\u001b[0m\u001b[0;34m\u001b[0m\u001b[0;34m\u001b[0m\u001b[0m\n\u001b[0m\u001b[1;32m   1802\u001b[0m     \u001b[0mplot_obj\u001b[0m\u001b[0;34m.\u001b[0m\u001b[0mdraw\u001b[0m\u001b[0;34m(\u001b[0m\u001b[0;34m)\u001b[0m\u001b[0;34m\u001b[0m\u001b[0;34m\u001b[0m\u001b[0m\n\u001b[1;32m   1803\u001b[0m     \u001b[0;32mreturn\u001b[0m \u001b[0mplot_obj\u001b[0m\u001b[0;34m.\u001b[0m\u001b[0mresult\u001b[0m\u001b[0;34m\u001b[0m\u001b[0;34m\u001b[0m\u001b[0m\n",
      "\u001b[0;32m~/anaconda3/lib/python3.7/site-packages/pandas/plotting/_core.py\u001b[0m in \u001b[0;36mgenerate\u001b[0;34m(self)\u001b[0m\n\u001b[1;32m    247\u001b[0m     \u001b[0;32mdef\u001b[0m \u001b[0mgenerate\u001b[0m\u001b[0;34m(\u001b[0m\u001b[0mself\u001b[0m\u001b[0;34m)\u001b[0m\u001b[0;34m:\u001b[0m\u001b[0;34m\u001b[0m\u001b[0;34m\u001b[0m\u001b[0m\n\u001b[1;32m    248\u001b[0m         \u001b[0mself\u001b[0m\u001b[0;34m.\u001b[0m\u001b[0m_args_adjust\u001b[0m\u001b[0;34m(\u001b[0m\u001b[0;34m)\u001b[0m\u001b[0;34m\u001b[0m\u001b[0;34m\u001b[0m\u001b[0m\n\u001b[0;32m--> 249\u001b[0;31m         \u001b[0mself\u001b[0m\u001b[0;34m.\u001b[0m\u001b[0m_compute_plot_data\u001b[0m\u001b[0;34m(\u001b[0m\u001b[0;34m)\u001b[0m\u001b[0;34m\u001b[0m\u001b[0;34m\u001b[0m\u001b[0m\n\u001b[0m\u001b[1;32m    250\u001b[0m         \u001b[0mself\u001b[0m\u001b[0;34m.\u001b[0m\u001b[0m_setup_subplots\u001b[0m\u001b[0;34m(\u001b[0m\u001b[0;34m)\u001b[0m\u001b[0;34m\u001b[0m\u001b[0;34m\u001b[0m\u001b[0m\n\u001b[1;32m    251\u001b[0m         \u001b[0mself\u001b[0m\u001b[0;34m.\u001b[0m\u001b[0m_make_plot\u001b[0m\u001b[0;34m(\u001b[0m\u001b[0;34m)\u001b[0m\u001b[0;34m\u001b[0m\u001b[0;34m\u001b[0m\u001b[0m\n",
      "\u001b[0;32m~/anaconda3/lib/python3.7/site-packages/pandas/plotting/_core.py\u001b[0m in \u001b[0;36m_compute_plot_data\u001b[0;34m(self)\u001b[0m\n\u001b[1;32m    365\u001b[0m         \u001b[0;32mif\u001b[0m \u001b[0mis_empty\u001b[0m\u001b[0;34m:\u001b[0m\u001b[0;34m\u001b[0m\u001b[0;34m\u001b[0m\u001b[0m\n\u001b[1;32m    366\u001b[0m             raise TypeError('Empty {0!r}: no numeric data to '\n\u001b[0;32m--> 367\u001b[0;31m                             'plot'.format(numeric_data.__class__.__name__))\n\u001b[0m\u001b[1;32m    368\u001b[0m \u001b[0;34m\u001b[0m\u001b[0m\n\u001b[1;32m    369\u001b[0m         \u001b[0mself\u001b[0m\u001b[0;34m.\u001b[0m\u001b[0mdata\u001b[0m \u001b[0;34m=\u001b[0m \u001b[0mnumeric_data\u001b[0m\u001b[0;34m\u001b[0m\u001b[0;34m\u001b[0m\u001b[0m\n",
      "\u001b[0;31mTypeError\u001b[0m: Empty 'DataFrame': no numeric data to plot"
     ]
    }
   ],
   "source": [
    "contracts.plot(x=\"obligated_amount\", y= ['hispanic_american_owned_business', 'black_american_owned_business'], kind='bar')"
=======
   "execution_count": 39,
   "metadata": {},
   "outputs": [
    {
     "data": {
      "text/plain": [
       "funding_agency_name\n",
       "EPA    AxesSubplot(0.125,0.125;0.775x0.755)\n",
       "HHS    AxesSubplot(0.125,0.125;0.775x0.755)\n",
       "HUD    AxesSubplot(0.125,0.125;0.775x0.755)\n",
       "Name: obligated_amount, dtype: object"
      ]
     },
     "execution_count": 39,
     "metadata": {},
     "output_type": "execute_result"
    },
    {
     "data": {
      "image/png": "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\n",
      "text/plain": [
       "<Figure size 432x288 with 1 Axes>"
      ]
     },
     "metadata": {
      "needs_background": "light"
     },
     "output_type": "display_data"
    }
   ],
   "source": [
    "contracts[contracts['black_american_owned_business'] == True].groupby(['funding_agency_name'])['obligated_amount'].plot() #column=['obligated_amount'], by='funding_agency_name')\n"
>>>>>>> f010fb1050090ecf9a829da1b582971c7a299a35
   ]
  },
  {
   "cell_type": "code",
   "execution_count": null,
   "metadata": {},
   "outputs": [],
   "source": []
  },
  {
   "cell_type": "code",
   "execution_count": null,
   "metadata": {},
   "outputs": [],
   "source": []
  }
 ],
 "metadata": {
  "kernelspec": {
   "display_name": "Python 3",
   "language": "python",
   "name": "python3"
  },
  "language_info": {
   "codemirror_mode": {
    "name": "ipython",
    "version": 3
   },
   "file_extension": ".py",
   "mimetype": "text/x-python",
   "name": "python",
   "nbconvert_exporter": "python",
   "pygments_lexer": "ipython3",
   "version": "3.7.3"
  }
 },
 "nbformat": 4,
 "nbformat_minor": 2
}
