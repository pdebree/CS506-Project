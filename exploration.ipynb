{
 "cells": [
  {
   "cell_type": "code",
   "execution_count": 1,
   "metadata": {},
   "outputs": [],
   "source": [
    "import pandas as pd\n",
    "import numpy as np \n",
    "import matplotlib.pyplot as plt"
   ]
  },
  {
   "cell_type": "code",
   "execution_count": 2,
   "metadata": {},
   "outputs": [],
   "source": [
    "contracts = pd.read_csv(\"data_119/contracts.csv\")"
   ]
  },
  {
   "cell_type": "code",
   "execution_count": 3,
   "metadata": {},
   "outputs": [],
   "source": [
    "contracts['recipient_name'] = contracts['recipient_name'].replace({'BAYASSOCIATES INCORPORATED':'BAYASSOCIATES, INC.', 'BAYASSOCIATES, INC': 'BAYASSOCIATES, INC.'})\n",
    "contracts['recipient_name'] = contracts['recipient_name'].replace({'TERESA TRIANA':'TERESA, TRIANA'})\n",
    "contracts['recipient_name'] =  contracts['recipient_name'].replace({'BEATRICE COCKRELL':'COCKRELL, BEATRICE'})\n",
    "\n"
   ]
  },
  {
   "cell_type": "code",
   "execution_count": 4,
   "metadata": {},
   "outputs": [],
   "source": [
    "contracts['funding_agency_name'] = contracts['funding_agency_name'].replace({'DEPARTMENT OF HOUSING AND URBAN DEVELOPMENT (HUD)': 'HUD',\n",
    "                                                                            'ENVIRONMENTAL PROTECTION AGENCY (EPA)': 'EPA',\n",
    "                                                                            'DEPARTMENT OF HEALTH AND HUMAN SERVICES (HHS)': 'HHS',\n",
    "                                                                            'NATIONAL SCIENCE FOUNDATION (NSF)' : 'NSF',\n",
    "                                                                            'DEPARTMENT OF TRANSPORTATION (DOT)': 'DOT'})"
   ]
  },
  {
   "cell_type": "code",
   "execution_count": 5,
   "metadata": {},
   "outputs": [
    {
     "data": {
      "text/plain": [
       "Index(['contract_award_unique_key', 'obligated_amount',\n",
       "       'period_of_performance_start_date',\n",
       "       'period_of_performance_current_end_date', 'funding_agency_name',\n",
       "       'funding_sub_agency_name', 'recipient_name',\n",
       "       'primary_place_of_performance_county_name', 'recipient_city_name',\n",
       "       'naics_description', 'number_of_employees', 'annual_revenue',\n",
       "       'multi_year_contract_code', 'minority_owned_business',\n",
       "       'black_american_owned_business', 'hispanic_american_owned_business',\n",
       "       'federally_funded_research_and_development_corp', 'us_state_government',\n",
       "       'sole_proprietorship', 'us_government_entity',\n",
       "       'educational_institution', 'manufacturer_of_goods',\n",
       "       'limited_liability_corporation', 'for_profit_organization',\n",
       "       'nonprofit_organization', 'other_not_for_profit_organization',\n",
       "       'start_year'],\n",
       "      dtype='object')"
      ]
     },
     "execution_count": 5,
     "metadata": {},
     "output_type": "execute_result"
    }
   ],
   "source": [
    "contracts.columns"
   ]
  },
  {
   "cell_type": "code",
   "execution_count": 6,
   "metadata": {},
   "outputs": [
    {
     "data": {
      "text/plain": [
       "recipient_name\n",
       "AKRIVIS TECHNOLOGIES, LLC              2\n",
       "APHIOS CORPORATION                     3\n",
       "ATAASK GLOBAL INC.                     2\n",
       "BAYASSOCIATES, INC.                    5\n",
       "BRYANT ASSOCIATES, INC.                2\n",
       "CLARENDON VALUATION ADVISORS, LLC      2\n",
       "COCKRELL, BEATRICE                     9\n",
       "GONA, PHILIMON                         1\n",
       "GORDON, PATRICK                        2\n",
       "HARLOW SCIENTIFIC, LLC                 1\n",
       "INTELIMAP INC                          2\n",
       "JMW SYSTEMS                            1\n",
       "WESTCARB ENTERPRISES, INC.             3\n",
       "WESTNET, INC.                        564\n",
       "WINDWALKER GROUP, LLC                  1\n",
       "Name: contract_award_unique_key, dtype: int64"
      ]
     },
     "execution_count": 6,
     "metadata": {},
     "output_type": "execute_result"
    }
   ],
   "source": [
    "contracts.loc[contracts['black_american_owned_business'] == True].groupby(['recipient_name'])['contract_award_unique_key'].count()\n",
    "\n"
   ]
  },
  {
   "cell_type": "code",
   "execution_count": 7,
   "metadata": {},
   "outputs": [
    {
     "data": {
      "text/plain": [
       "recipient_name\n",
       "BIODIRECT INC.                            4\n",
       "BLANCO, EDGAR E                           1\n",
       "BRUNETTE, MARIA                           1\n",
       "CONVERGENCE MEDICAL DEVICES INC.          1\n",
       "CORTES, DHARMA E                          3\n",
       "GVC CONSTRUCTION AND ENGINEERING, INC.    1\n",
       "MEDICAL SPECIALTIES DISTRIBUTORS, LLC     1\n",
       "MIKRON, INC                               5\n",
       "MOURA'S CLEANING SERVICE, INC.            2\n",
       "NEO-ADVENT TECHNOLOGIES LLC               1\n",
       "TERESA, TRIANA                            1\n",
       "UNIC PRO, INC.                            4\n",
       "Name: contract_award_unique_key, dtype: int64"
      ]
     },
     "execution_count": 7,
     "metadata": {},
     "output_type": "execute_result"
    }
   ],
   "source": [
    "contracts.loc[contracts['hispanic_american_owned_business'] == True].groupby(['recipient_name'])['contract_award_unique_key'].count()\n"
   ]
  },
  {
   "cell_type": "code",
   "execution_count": 8,
   "metadata": {},
   "outputs": [
    {
     "data": {
      "text/plain": [
       "recipient_name\n",
       "AKRIVIS TECHNOLOGIES, LLC            262186.000000\n",
       "APHIOS CORPORATION                   181159.666667\n",
       "ATAASK GLOBAL INC.                     7262.980000\n",
       "BAYASSOCIATES, INC.                   60697.000000\n",
       "BRYANT ASSOCIATES, INC.              349354.250000\n",
       "CLARENDON VALUATION ADVISORS, LLC     90543.090000\n",
       "COCKRELL, BEATRICE                     2971.666667\n",
       "GONA, PHILIMON                        33000.000000\n",
       "GORDON, PATRICK                        3306.000000\n",
       "HARLOW SCIENTIFIC, LLC                36045.000000\n",
       "INTELIMAP INC                         30325.000000\n",
       "JMW SYSTEMS                            7735.700000\n",
       "WESTCARB ENTERPRISES, INC.              468.320000\n",
       "WESTNET, INC.                         10751.934929\n",
       "WINDWALKER GROUP, LLC                497153.000000\n",
       "Name: obligated_amount, dtype: float64"
      ]
     },
     "execution_count": 8,
     "metadata": {},
     "output_type": "execute_result"
    }
   ],
   "source": [
    "contracts.loc[contracts['black_american_owned_business'] == True].groupby(['recipient_name'])['obligated_amount'].mean()\n"
   ]
  },
  {
   "cell_type": "code",
   "execution_count": 9,
   "metadata": {},
   "outputs": [
    {
     "data": {
      "text/plain": [
       "black_american_owned_business\n",
       "False    278191.720475\n",
       "True      14998.489333\n",
       "Name: obligated_amount, dtype: float64"
      ]
     },
     "execution_count": 9,
     "metadata": {},
     "output_type": "execute_result"
    }
   ],
   "source": [
    "contracts.groupby(['black_american_owned_business'])['obligated_amount'].mean() "
   ]
  },
  {
   "cell_type": "code",
   "execution_count": 10,
   "metadata": {},
   "outputs": [
    {
     "data": {
      "text/plain": [
       "black_american_owned_business\n",
       "False    6.026028e+09\n",
       "True     4.538118e+05\n",
       "Name: annual_revenue, dtype: float64"
      ]
     },
     "execution_count": 10,
     "metadata": {},
     "output_type": "execute_result"
    }
   ],
   "source": [
    "contracts.groupby(['black_american_owned_business'])['annual_revenue'].mean() "
   ]
  },
  {
   "cell_type": "code",
   "execution_count": 11,
   "metadata": {},
   "outputs": [
    {
     "data": {
      "text/plain": [
       "hispanic_american_owned_business\n",
       "False    5.821871e+09\n",
       "True     7.790131e+06\n",
       "Name: annual_revenue, dtype: float64"
      ]
     },
     "execution_count": 11,
     "metadata": {},
     "output_type": "execute_result"
    }
   ],
   "source": [
    "contracts.groupby(['hispanic_american_owned_business'])['annual_revenue'].mean() "
   ]
  },
  {
   "cell_type": "code",
   "execution_count": 12,
   "metadata": {},
   "outputs": [
    {
     "data": {
      "text/plain": [
       "hispanic_american_owned_business\n",
       "False    5.821871e+09\n",
       "True     7.790131e+06\n",
       "Name: annual_revenue, dtype: float64"
      ]
     },
     "execution_count": 12,
     "metadata": {},
     "output_type": "execute_result"
    }
   ],
   "source": [
    "contracts.groupby(['hispanic_american_owned_business'])['annual_revenue'].mean() "
   ]
  },
  {
   "cell_type": "code",
   "execution_count": 13,
   "metadata": {},
   "outputs": [
    {
     "data": {
      "text/plain": [
       "hispanic_american_owned_business\n",
       "False    269851.737146\n",
       "True     124468.254000\n",
       "Name: obligated_amount, dtype: float64"
      ]
     },
     "execution_count": 13,
     "metadata": {},
     "output_type": "execute_result"
    }
   ],
   "source": [
    "contracts.groupby(['hispanic_american_owned_business'])['obligated_amount'].mean() "
   ]
  },
  {
   "cell_type": "code",
   "execution_count": 14,
   "metadata": {},
   "outputs": [
    {
     "data": {
      "text/html": [
       "<div>\n",
       "<style scoped>\n",
       "    .dataframe tbody tr th:only-of-type {\n",
       "        vertical-align: middle;\n",
       "    }\n",
       "\n",
       "    .dataframe tbody tr th {\n",
       "        vertical-align: top;\n",
       "    }\n",
       "\n",
       "    .dataframe thead th {\n",
       "        text-align: right;\n",
       "    }\n",
       "</style>\n",
       "<table border=\"1\" class=\"dataframe\">\n",
       "  <thead>\n",
       "    <tr style=\"text-align: right;\">\n",
       "      <th></th>\n",
       "      <th>contract_award_unique_key</th>\n",
       "    </tr>\n",
       "    <tr>\n",
       "      <th>funding_agency_name</th>\n",
       "      <th></th>\n",
       "    </tr>\n",
       "  </thead>\n",
       "  <tbody>\n",
       "    <tr>\n",
       "      <th>DOT</th>\n",
       "      <td>4</td>\n",
       "    </tr>\n",
       "    <tr>\n",
       "      <th>EPA</th>\n",
       "      <td>2700</td>\n",
       "    </tr>\n",
       "    <tr>\n",
       "      <th>HHS</th>\n",
       "      <td>15502</td>\n",
       "    </tr>\n",
       "    <tr>\n",
       "      <th>HUD</th>\n",
       "      <td>199</td>\n",
       "    </tr>\n",
       "    <tr>\n",
       "      <th>NSF</th>\n",
       "      <td>94</td>\n",
       "    </tr>\n",
       "  </tbody>\n",
       "</table>\n",
       "</div>"
      ],
      "text/plain": [
       "                     contract_award_unique_key\n",
       "funding_agency_name                           \n",
       "DOT                                          4\n",
       "EPA                                       2700\n",
       "HHS                                      15502\n",
       "HUD                                        199\n",
       "NSF                                         94"
      ]
     },
     "execution_count": 14,
     "metadata": {},
     "output_type": "execute_result"
    }
   ],
   "source": [
    "contracts.groupby(['funding_agency_name'])[['contract_award_unique_key']].count()"
   ]
  },
  {
   "cell_type": "code",
   "execution_count": 15,
   "metadata": {},
   "outputs": [
    {
     "data": {
      "text/html": [
       "<div>\n",
       "<style scoped>\n",
       "    .dataframe tbody tr th:only-of-type {\n",
       "        vertical-align: middle;\n",
       "    }\n",
       "\n",
       "    .dataframe tbody tr th {\n",
       "        vertical-align: top;\n",
       "    }\n",
       "\n",
       "    .dataframe thead th {\n",
       "        text-align: right;\n",
       "    }\n",
       "</style>\n",
       "<table border=\"1\" class=\"dataframe\">\n",
       "  <thead>\n",
       "    <tr style=\"text-align: right;\">\n",
       "      <th></th>\n",
       "      <th>contract_award_unique_key</th>\n",
       "    </tr>\n",
       "    <tr>\n",
       "      <th>funding_agency_name</th>\n",
       "      <th></th>\n",
       "    </tr>\n",
       "  </thead>\n",
       "  <tbody>\n",
       "    <tr>\n",
       "      <th>EPA</th>\n",
       "      <td>9</td>\n",
       "    </tr>\n",
       "    <tr>\n",
       "      <th>HHS</th>\n",
       "      <td>575</td>\n",
       "    </tr>\n",
       "    <tr>\n",
       "      <th>HUD</th>\n",
       "      <td>16</td>\n",
       "    </tr>\n",
       "  </tbody>\n",
       "</table>\n",
       "</div>"
      ],
      "text/plain": [
       "                     contract_award_unique_key\n",
       "funding_agency_name                           \n",
       "EPA                                          9\n",
       "HHS                                        575\n",
       "HUD                                         16"
      ]
     },
     "execution_count": 15,
     "metadata": {},
     "output_type": "execute_result"
    }
   ],
   "source": [
    "contracts.loc[contracts['black_american_owned_business'] == True].groupby(['funding_agency_name'])[['contract_award_unique_key']].count()"
   ]
  },
  {
   "cell_type": "code",
   "execution_count": 16,
   "metadata": {},
   "outputs": [],
   "source": [
    "#contracts[contracts['hispanic_american_owned_business'] == True].groupby('recipient_city_name').count()"
   ]
  },
  {
   "cell_type": "code",
   "execution_count": 17,
   "metadata": {},
   "outputs": [],
   "source": [
    "#contracts[contracts['minority_owned_business'] == True].groupby('recipient_city_name').count()"
   ]
  },
  {
   "cell_type": "code",
   "execution_count": 18,
   "metadata": {},
   "outputs": [
    {
     "data": {
      "image/png": "[encoded data removed]",
      "text/plain": [
       "<Figure size 432x288 with 1 Axes>"
      ]
     },
     "metadata": {
      "needs_background": "light"
     },
     "output_type": "display_data"
    }
   ],
   "source": [
    "contracts.groupby(['funding_agency_name', 'black_american_owned_business']).size().unstack().plot(kind='bar',stacked=True)\n",
    "plt.legend(loc='center left')\n",
    "plt.show()\n"
   ]
  },
  {
   "cell_type": "code",
   "execution_count": 19,
   "metadata": {},
   "outputs": [
    {
     "data": {
      "image/png": "[encoded data removed]",
      "text/plain": [
       "<Figure size 432x288 with 1 Axes>"
      ]
     },
     "metadata": {
      "needs_background": "light"
     },
     "output_type": "display_data"
    }
   ],
   "source": [
    "contracts[contracts['black_american_owned_business'] == True].groupby(['funding_agency_name', 'recipient_name'])[['contract_award_unique_key']].count().unstack().plot(kind='bar',stacked=True, legend=False)\n",
    "plt.show()"
   ]
  },
  {
   "cell_type": "code",
   "execution_count": 20,
   "metadata": {},
   "outputs": [
    {
     "data": {
      "text/plain": [
       "15"
      ]
     },
     "execution_count": 20,
     "metadata": {},
     "output_type": "execute_result"
    }
   ],
   "source": [
    "len(contracts[contracts['black_american_owned_business'] == True]['recipient_name'].unique())"
   ]
  },
  {
   "cell_type": "code",
   "execution_count": 21,
   "metadata": {},
   "outputs": [
    {
     "data": {
      "text/plain": [
       "1478"
      ]
     },
     "execution_count": 21,
     "metadata": {},
     "output_type": "execute_result"
    }
   ],
   "source": [
    "len(contracts['recipient_name'].unique())"
   ]
  },
  {
   "cell_type": "code",
   "execution_count": 22,
   "metadata": {},
   "outputs": [
    {
     "data": {
      "text/plain": [
       "85"
      ]
     },
     "execution_count": 22,
     "metadata": {},
     "output_type": "execute_result"
    }
   ],
   "source": [
    "len(contracts[contracts['minority_owned_business'] == True]['recipient_name'].unique())"
   ]
  },
  {
   "cell_type": "code",
   "execution_count": 23,
   "metadata": {},
   "outputs": [
    {
     "data": {
      "text/plain": [
       "<matplotlib.axes._subplots.AxesSubplot at 0x115233ac8>"
      ]
     },
     "execution_count": 23,
     "metadata": {},
     "output_type": "execute_result"
    },
    {
     "data": {
      "image/png": "[encoded data removed]",
      "text/plain": [
       "<Figure size 432x288 with 1 Axes>"
      ]
     },
     "metadata": {
      "needs_background": "light"
     },
     "output_type": "display_data"
    }
   ],
   "source": [
    "contracts.plot.scatter(x= 'obligated_amount', y='number_of_employees')#, c='black_american_owned_business', colormap='viridis')"
   ]
  },
  {
   "cell_type": "code",
   "execution_count": 35,
   "metadata": {},
   "outputs": [
    {
     "data": {
      "text/plain": [
       "6800000.0"
      ]
     },
     "execution_count": 35,
     "metadata": {},
     "output_type": "execute_result"
    }
   ],
   "source": [
    "contracts['number_of_employees'].max()"
   ]
  },
  {
   "cell_type": "code",
   "execution_count": 36,
   "metadata": {},
   "outputs": [
    {
     "data": {
      "text/plain": [
       "348888718.0"
      ]
     },
     "execution_count": 36,
     "metadata": {},
     "output_type": "execute_result"
    }
   ],
   "source": [
    "contracts['obligated_amount'].max()"
   ]
  },
  {
   "cell_type": "code",
   "execution_count": null,
   "metadata": {},
   "outputs": [],
   "source": []
  },
  {
   "cell_type": "code",
   "execution_count": 39,
   "metadata": {},
   "outputs": [
    {
     "data": {
      "text/plain": [
       "sole_proprietorship\n",
       "False    5.426029e+09\n",
       "True     1.523064e+09\n",
       "Name: annual_revenue, dtype: float64"
      ]
     },
     "execution_count": 39,
     "metadata": {},
     "output_type": "execute_result"
    }
   ],
   "source": [
    "contracts.groupby(['sole_proprietorship'])['annual_revenue'].mean() "
   ]
  },
  {
   "cell_type": "code",
   "execution_count": 28,
   "metadata": {},
   "outputs": [
    {
     "data": {
      "text/plain": [
       "177"
      ]
     },
     "execution_count": 28,
     "metadata": {},
     "output_type": "execute_result"
    }
   ],
   "source": [
    "contracts[contracts['nonprofit_organization'] == True]['recipient_name'].unique())"
   ]
  },
  {
   "cell_type": "code",
   "execution_count": 42,
   "metadata": {},
   "outputs": [
    {
     "data": {
      "text/plain": [
       "minority_owned_business  sole_proprietorship\n",
       "False                    False                  20094\n",
       "                         True                     576\n",
       "True                     False                   1006\n",
       "                         True                      17\n",
       "Name: recipient_name, dtype: int64"
      ]
     },
     "execution_count": 42,
     "metadata": {},
     "output_type": "execute_result"
    }
   ],
   "source": [
    "contracts.groupby(['minority_owned_business', 'limited_liability_corporation'])['recipient_name'].count()"
   ]
  },
  {
   "cell_type": "code",
   "execution_count": null,
   "metadata": {},
   "outputs": [],
   "source": []
  },
  {
   "cell_type": "code",
   "execution_count": null,
   "metadata": {},
   "outputs": [],
   "source": []
  }
 ],
 "metadata": {
  "kernelspec": {
   "display_name": "Python 3",
   "language": "python",
   "name": "python3"
  },
  "language_info": {
   "codemirror_mode": {
    "name": "ipython",
    "version": 3
   },
   "file_extension": ".py",
   "mimetype": "text/x-python",
   "name": "python",
   "nbconvert_exporter": "python",
   "pygments_lexer": "ipython3",
   "version": "3.7.3"
  }
 },
 "nbformat": 4,
 "nbformat_minor": 2
}
